{
 "cells": [
  {
   "cell_type": "markdown",
   "metadata": {
    "collapsed": false
   },
   "source": [
    "# N-grams, Fastttext, and GloVE\n",
    "\n",
    "*This assignment focuses on exploring Fasttext and GloVE as NLP methods. We are going to focus on two tasks and ways of understanding models:*\n",
    "\n",
    "1. *The traditional, \"model is a classifier\" viewpoint. Here we are going to work with the [AG News Dataset](https://www.kaggle.com/datasets/amananandrai/ag-news-classification-dataset) to classify genres*\n",
    "2. *The more vector-based way, seeing them basically as machines that just generate word vectors, with everything else just being gravy. Barring attaching a specific classifier, GloVE falls entirely under this category.* \n",
    "\n",
    "*In this assignment, we are mainly going to be using the [AG News Classification Dataset](https://www.kaggle.com/datasets/amananandrai/ag-news-classification-dataset), a corpus of more than 1 million news articles, each classified as one of four classes: 'Business', 'Sci/Tech', 'World', or 'Sports'. Note, that because of the semi-supervised nature of most methods used in this assignment, we could almost do the whole thing without the labels. They're just there to make it a bit simpler and to provide an obvious usecase.*\n",
    "\n",
    "**For the GloVe part, note that you can download all their pretrained vectors at the [GloVe project page](https://nlp.stanford.edu/projects/glove/).**\n",
    "\n",
    "## 0. Extra primer on Fasttext\n",
    "\n",
    "*As you know, n-grams are pretty useful for improving the otherwise limited bag-of-words (BoW) model. Most often, this is by making distinctions between sentences such as \"good\" and \"not good\" which would be represented somewhat the same in a regular BoW. It is very obvious if we consider the sentence \"Maria stole the milk\" vs \"The milk stole Maria\", two sentences completely identical in the BoW representation, but with two obviously different meanings.*\n",
    "\n",
    "*As you also know, Fasttext takes this further by creating chracter-wise n-grams. These are made up of n-characters of a single word. This allows fasttext to consider cases such as grammar, where words are spelled similarly and even consider misspellings, if someone makes a mistaek in wirtign a wrod, the character-wise n-gram representation will be **almost** the same as the correct word.*\n",
    "\n",
    "This is done by Fasttext simply storing embedding vectors $v_n$ for each n-gram, character or otherwise. Fasttext will simply then average all of these vectors, word, character-wise n-grams, and word-wise n-grams to create the representation for a given text or sentence.\n",
    "\n",
    "$$v_{total} = \\frac{1}{N}\\sum^N_{n=0} v_n$$\n",
    "\n",
    "### Important note: Fasttext supervised and unsupervised\n",
    "\n",
    "*If you look into the technical documentation for the fasttext model, you'll notice that there are options to train both an **unsupervised** and a **supervised** version of the fasttext model. These use similar approaches, but it is arguably the unsupervised model that best describes what the fasttext team wanted to accomplish: efficient word-vector generation for downstream usage.*\n",
    "\n",
    "***The supervised model:***\n",
    "- *Needs a corpus of text with given labels to train*\n",
    "- *Does not use skipgram/CBoW, but just works as a 'normal' FFN for classification*\n",
    "- *Uses character-wise n-grams*\n",
    "- *Uses word-wise n-grams the same way as the unsupervised model uses character-wise n-grams, treating them as vectors and combining them in the end for the final classification.*\n",
    "- *Can be directly evaluated by just checking how good it is at predicting the given classes.*\n",
    "\n",
    "***The unsupervised model:*** (not important for this assignment or course, just cool to know)\n",
    "- *Just needs a corpus of text to train*\n",
    "- *Does not use wordwise n-grams*\n",
    "- *Has vectors for each unique character n-gram and each unique word in the corpus (limited by bin size)* \n",
    "- *Vectors for character n-grams are created indepedently of word vectors, for example the trigram \"her\" present in \"where\" has a different vector representation than the one for the full word \"her\".*\n",
    "- *Is a purely skipgram/CBoW model (input layer, one hidden, output layer)*\n",
    "- *Cannot be directly evaluated except in qualitative ways by considering the downstream tasks it will be used in*\n",
    "\n",
    "\n",
    "***Both models***\n",
    "- *Only work on CPU (bvadr) (what a time 2015 was!)*"
   ]
  },
  {
   "cell_type": "code",
   "execution_count": 1,
   "metadata": {
    "collapsed": false,
    "pycharm": {
     "name": "#%%\n"
    }
   },
   "outputs": [],
   "source": [
    "import numpy as np\n",
    "import string\n",
    "import random\n",
    "import re\n",
    "import pickle\n",
    "import fasttext\n",
    "\n",
    "import matplotlib.pyplot as plt\n",
    "\n",
    "from sklearn.decomposition import PCA\n",
    "from tqdm import tqdm\n",
    "import torch\n",
    "\n",
    "import pandas as pd\n",
    "import time"
   ]
  },
  {
   "cell_type": "code",
   "execution_count": 2,
   "metadata": {
    "collapsed": false,
    "pycharm": {
     "name": "#%%\n"
    }
   },
   "outputs": [],
   "source": [
    "def generate_seed():\n",
    "    \"\"\"\n",
    "    Generates robust seed values using methods adapted from Gaius-quantum reverse...\n",
    "    ...GaunTLets, see more https://isotropic.org/papers/chicken.pdf and explained https://www.youtube.com/watch?v=dQw4w9WgXcQ\n",
    "    Values are generated from a specific subset of alphanumerics representing sub-deca natural-numericals\n",
    "    from the glove.42B.300d.txt Use this subset for the reverse function as well, the whole one will take too long\n",
    "    \"\"\"\n",
    "\n",
    "    with open(\"data/important_stuff.pkl\", \"rb\") as fp:\n",
    "        GQRGaunTLets_69B_300_seed_vals = pickle.load(fp)\n",
    "        seed = int(np.var(GQRGaunTLets_69B_300_seed_vals[69]) * 100)\n",
    "        return seed\n",
    "\n",
    "def seed_everything(seed_value):\n",
    "    random.seed(seed_value)\n",
    "    np.random.seed(seed_value)\n",
    "    try: torch.manual_seed(seed_value)\n",
    "    except: pass\n",
    "\n",
    "seed_everything(generate_seed())"
   ]
  },
  {
   "cell_type": "markdown",
   "metadata": {},
   "source": [
    "## Exercise 1 Word- and character-wise n-grams\n",
    "\n",
    "*The selling point of fasttext is in part given by its main paper's name: **Enriching Word Vectors with Subword Information**.  Character n-grams is really all its about. Since you have already worked with them, we are just going to briefly introduce them*\n",
    "\n",
    "*Normally, getting N-grams would be something you'd leave for an NLP package like NLTK. We're just going to implement it for the sake of understanding.*\n",
    "\n",
    "**1. Implement the below functions to get word-grams and character-grams respectively**"
   ]
  },
  {
   "cell_type": "code",
   "execution_count": 3,
   "metadata": {
    "collapsed": false,
    "pycharm": {
     "name": "#%%\n"
    }
   },
   "outputs": [],
   "source": [
    "# N-gram functions -  Might need to be filled by students?\n",
    "\n",
    "def preprocess_text(text, lower=True, strip=True):\n",
    "    # Preprocess the text\n",
    "    if lower:\n",
    "        text = text.lower()\n",
    "    if strip:\n",
    "        text = re.sub('[^A-Za-z0-9 ]+', '', text)\n",
    "    \n",
    "    return text\n",
    "\n",
    "def get_word_grams(text, n, lower=True, strip=True):\n",
    "    \"\"\"Gets a specific n-gram for a given text string\"\"\"\n",
    "\n",
    "    text = preprocess_text(text, lower, strip)\n",
    "    \n",
    "    length = len(text.split())\n",
    "\n",
    "    # Add padding\n",
    "    pad_start = ' '.join([\"<s>\"]*(n-1)) + ' '\n",
    "    pad_end = ' ' + ' '.join([\"</s>\"]*(n-1))\n",
    "    text = pad_start + text + pad_end\n",
    "\n",
    "    n_grams = []\n",
    "    text = text.split()\n",
    "    \n",
    "    # Obtain N-grams\n",
    "    for i in range(length + n-1):\n",
    "        n_grams.append(' '.join(text[i:i+n]))\n",
    "\n",
    "    return n_grams\n",
    "\n",
    "def get_character_grams(word: str, n):\n",
    "    \"\"\"Gets the character wise n-grams for a single word\"\"\"\n",
    "    word_grams = []\n",
    "\n",
    "    word = preprocess_text(word)\n",
    "\n",
    "    word = '<' + word + '>'\n",
    "\n",
    "    # Obtain character-grams\n",
    "    for i in range(len(word) - n + 1):\n",
    "        word_grams.append(word[i:i+n])\n",
    "\n",
    "    return word_grams"
   ]
  },
  {
   "cell_type": "code",
   "execution_count": 4,
   "metadata": {},
   "outputs": [
    {
     "name": "stdout",
     "output_type": "stream",
     "text": [
      "['<s> <s> <s> he', '<s> <s> he turned', '<s> he turned himself', 'he turned himself into', 'turned himself into a', 'himself into a pickle', 'into a pickle funniest', 'a pickle funniest shit', 'pickle funniest shit ive', 'funniest shit ive ever', 'shit ive ever seen', 'ive ever seen </s>', 'ever seen </s> </s>', 'seen </s> </s> </s>']\n"
     ]
    }
   ],
   "source": [
    "text = \"He turned himself into a pickle... Funniest shit, ive ever seen!!!\"\n",
    "\n",
    "n_grams = get_word_grams(text, n=4, lower=True, strip=True)\n",
    "print(n_grams)"
   ]
  },
  {
   "cell_type": "markdown",
   "metadata": {},
   "source": [
    "*As you can see from running the example below, even in this very small sentence, there are a ton of n-grams, and even more word-grams. This is why, for practical purposes, the Fasttext model often operates on what is known as a **'bucket size'** which defines the maximum number of possible word-grams avaliable in the model.*"
   ]
  },
  {
   "cell_type": "code",
   "execution_count": 5,
   "metadata": {
    "collapsed": false,
    "pycharm": {
     "name": "#%%\n"
    }
   },
   "outputs": [
    {
     "name": "stdout",
     "output_type": "stream",
     "text": [
      "Word-grams here: \n",
      "  ['<s> <s> he', '<s> he turned', 'he turned himself', 'turned himself into', 'himself into a', 'into a pickle', 'a pickle funniest', 'pickle funniest shit', 'funniest shit ive', 'shit ive ever', 'ive ever seen', 'ever seen </s>', 'seen </s> </s>']\n",
      "Character-grams here: \n",
      "  [['<he', 'he>'], ['<tu', 'tur', 'urn', 'rne', 'ned', 'ed>'], ['<hi', 'him', 'ims', 'mse', 'sel', 'elf', 'lf>'], ['<in', 'int', 'nto', 'to>'], ['<a>'], ['<pi', 'pic', 'ick', 'ckl', 'kle', 'le>'], ['<fu', 'fun', 'unn', 'nni', 'nie', 'ies', 'est', 'st>'], ['<sh', 'shi', 'hit', 'it>'], ['<iv', 'ive', 've>'], ['<ev', 'eve', 'ver', 'er>'], ['<se', 'see', 'een', 'en>']]\n"
     ]
    }
   ],
   "source": [
    "# Now let us just test these functions on some toy text...\n",
    "text = \"He turned himself into a pickle... Funniest shit, ive ever seen!!!\"\n",
    "\n",
    "n_grams = get_word_grams(text, n=3, lower=True, strip=True)\n",
    "# word_grams = [get_character_grams(words[0], n=3) for words in n_grams]\n",
    "# print(get_character_grams(text, n=3))\n",
    "# print([preprocess_text(word) for word in text.split()])\n",
    "word_grams = [get_character_grams(word, n=3) for word in text.split()]\n",
    "\n",
    "print(\"Word-grams here: \\n \", n_grams)\n",
    "\n",
    "print(\"Character-grams here: \\n \", word_grams)"
   ]
  },
  {
   "cell_type": "markdown",
   "metadata": {},
   "source": [
    "## Exercise 2 Training and using the fasttext model\n",
    "\n",
    "<p style=\"text-align:center;\">\"<i>(Almost) Never do yourself what some other chump has done better\"</i> </p>\n",
    "<p style=\"text-align:center;\"> - Creed of the KID </p>\n",
    "\n",
    "*Obviously someone else has made a pretty well working [Fasttext module](https://fasttext.cc/). In this case, it is the team at Meta (Facebook, back then). Aside from how well it trains, is does have a few weird things about it, most notably that it requires .txt files to train (bvadr).*\n",
    "\n",
    "*For this exercise, we are going to focus on just tweaking minn and maxnn which control the minimum and maximum length for the character-grams. Note that setting the minn and maxn length both to 0, makes the model only consider word-grams and word vectors.*\n",
    "\n",
    "*A complete list of model hyperparameters can be found in the file hypereparams.txt, along with (most) methods callable on the Fasttext model. Refer to this if you need inspiration on making your model interesting. Consider any chosen hyperparamters **as arbitrary** and feel free to change them as you wish. It helps, however, to comment on or argue for your changes.*\n",
    "\n",
    "*Important note: If the model is asked for a word- or character-vector **not in its current vocabulary**, it will give a zero-vector of the same dimension as the other vectors in its vocabulary. This way even extremely esoteric spelling errors do not 'break' the model due to vocabulary lookup errors, the words themselves will just not add anything to the prediction.*"
   ]
  },
  {
   "cell_type": "markdown",
   "metadata": {},
   "source": [
    "### Fasttext - Theoretical questions\n",
    "\n",
    "**1. In general, how does fasttext handle OOV (out of vocabulary) tokens? How do they contribute to embeddings vectors?**\n",
    "\n",
    "In FastText, OOV tokens are split into character n-grams, for which an embedding can be found individually by looking it up in the subword embedding matrix, which was learned during training. Then all the character n-grams are averaged to obtain an embedding for the full word. \n",
    "\n",
    "**2. Say you have a fasttext model trained on a large corpus with character-3-grams how would it reprsent the OOV word \"Phandelver\"?.**\n",
    "\n",
    "The model would split the OOV word into subwords, as explained above. For n=3 this would look as such:\n",
    "\n",
    "<ph, han, and, nde, del, elv, lve, ver, er>\n",
    "\n",
    "Note: We write a \"p\" instead of a \"P\" since the preprocessing lowers all uppercase letters.\n",
    "\n",
    "**3. In probability theory, you often consider either the marignal probability $p(x)$, or the conditional probability $p(x|y)$. How do these two different kinds of probability relate to the field of natural language processing?**\n",
    "\n",
    "<p style=\"text-align:center;\"><i>\"Words that appear together, relate together\"</i></p>\n",
    "<p style=\"text-align:center;\">- From slides</p>\n",
    "\n",
    "\n",
    "The marginal probability represents the probability of a word appearing in a corpus of text and it is calculated by dividing the amount of times the word occurs divided by the total amount of words in the corpus.\n",
    "\n",
    "However the condition probability represents the probability of words appearing in succession. Among other applications, this can help us predict the next word based on the previous word.\n",
    "\n",
    "For instance, suppose y denotes an arbitrary word, and x denotes the word following y. In this case, the conditional probability $p(x|y)$ represents the probability that the word following y is x. Hence by maximizing the conditional probability, we can predict the next word in a sentence based on the previous word. Auto-correct in phones is a great example of this.\n",
    "\n",
    "<!-- The marginal probability relates to the number of times a word appears in a corpus, while the conditional probability is the probability of a word given the previous word. -->\n",
    "\n",
    "\n",
    "**4. Word2Vec is pretty old method in NLP, now mostly supplanted by attention-based models. What disadvantages are there in using specific word vectors for text classification? As inspiration, consider a fasttext model being given the following question:**\n",
    "\n",
    "*Mary saw a puppy in the window, she wanted it. James saw a nice window in the window store, he wanted it. What did Mary want?*\n",
    "\n",
    "\n",
    "Contextual Understanding:\n",
    "Word2Vec generates static embeddings, meaning that each word has a fixed representation regardless of its context. For example, in the sentence above, Word2Vec might incorrectly associate “it” with “window” rather than “puppy,” as it doesn’t encode the relationship between words in context.\n",
    "\n",
    "Handling Polysemy:\n",
    "As words are encoded independant of their context, sometimes words can have multiple meanings, leading to ambiguity.\n",
    "\n",
    "Out-of-Vocabulary (OOV) Words:\n",
    "Word2Vec cannot handle words not seen during training, as it requires a pre-trained embedding for each word. In contrast, FastText uses subword (e.g., n-gram) embeddings, enabling it to approximate embeddings for OOV words by combining representations of their subwords.\n",
    "\n",
    "Storage Requirements:\n",
    "Word2Vec requires storing an embedding for every word in the vocabulary, which can be computationally expensive for large corpora. FastText, by operating on subword units, reduces storage demands and increases efficiency.\n",
    "\n",
    "\n",
    "$\\star$ **5. As mentioned, attention-based models fix a lot of issues that older Word2Vec models had. Particularly, they do not need N-grams to capture context information. Why is this?**\n",
    "\n",
    "$\\dots$\n",
    "\n",
    "$\\star$ **6. Because of the way fasttext generates word-vectors (skipgram/CBoW), it only ever considers local contexts and not whole corpora at a time. What potential downsides does this have?**\n",
    "\n",
    "$\\dots$"
   ]
  },
  {
   "cell_type": "code",
   "execution_count": 6,
   "metadata": {
    "collapsed": false,
    "pycharm": {
     "name": "#%%\n"
    }
   },
   "outputs": [
    {
     "name": "stdout",
     "output_type": "stream",
     "text": [
      "There are a total of 120000 data points in the dataset, \n",
      "7600 different points in the test set, and the different labels are [0 1 2 3],\n",
      "these correspond to the categories: ['World' 'Sports' 'Business' 'Sci/Tec']\n",
      "\n",
      "Training class balances:\n",
      "World 0.25\n",
      "Sports 0.25\n",
      "Business 0.25\n",
      "Sci/Tec 0.25\n",
      "\n",
      "Test class balances:\n",
      "World 0.25\n",
      "Sports 0.25\n",
      "Business 0.25\n",
      "Sci/Tec 0.25\n"
     ]
    }
   ],
   "source": [
    "# Load AG_news data\n",
    "news_data = np.load('./data/news_data.npz', allow_pickle=True)\n",
    "train_texts = news_data['train_texts']\n",
    "test_texts = news_data['test_texts']\n",
    "train_labels = news_data['train_labels']\n",
    "test_labels = news_data['test_labels']\n",
    "ag_news_labels = news_data['ag_news_label']\n",
    "\n",
    "print(f\"There are a total of {len(train_labels)} data points in the dataset, \\n\"\n",
    "        f\"{len(test_texts)} different points in the test set, and the different labels are {np.unique(train_labels)},\\n\"\n",
    "        f\"these correspond to the categories: {ag_news_labels}\\n\")\n",
    "\n",
    "\n",
    "# Let's just ensure class proportions are balanced for both training and testing purposes...\n",
    "n_classes = len(ag_news_labels)\n",
    "print(\"Training class balances:\")\n",
    "for i,c in enumerate(ag_news_labels):\n",
    "    print(c,np.mean(train_labels==i))\n",
    "print()\n",
    "\n",
    "print(\"Test class balances:\")\n",
    "for i,c in enumerate(ag_news_labels):\n",
    "    print(c,np.mean(test_labels==i))\n"
   ]
  },
  {
   "cell_type": "code",
   "execution_count": 7,
   "metadata": {
    "collapsed": false,
    "pycharm": {
     "name": "#%%\n"
    }
   },
   "outputs": [],
   "source": [
    "# Creating fasttext data set from current training data\n",
    "def train_test_split(texts, labels, train_split=0.8):\n",
    "    \"\"\"\n",
    "    Creates .txt files for training and testing, compatible with a fasttext model\n",
    "\n",
    "    Args:\n",
    "        texts (np.ndarray): Iterable of full text where one item is one text\n",
    "        labels (np.ndarray): Labels for full text so that label i corresponds to text i\n",
    "        train_split (float): Fraction of data to be used for training, rest is used for testing\n",
    "\n",
    "    Returns:\n",
    "        train_texts (np.ndarray): Training texts\n",
    "        train_labels (np.ndarray): Training labels\n",
    "        test_texts (np.ndarray): Testing texts\n",
    "        test_labels (np.ndarray): Testing labels\n",
    "    \"\"\"\n",
    "\n",
    "    text_length = len(texts)\n",
    "\n",
    "    indices = np.arange(text_length)\n",
    "    np.random.shuffle(indices)\n",
    "\n",
    "    texts = texts[indices]\n",
    "    labels = labels[indices]\n",
    "\n",
    "    train_size = int(text_length * train_split)\n",
    "\n",
    "    train_texts = texts[:train_size]\n",
    "    train_labels = labels[:train_size]\n",
    "\n",
    "    test_texts = texts[train_size:]\n",
    "    test_labels = labels[train_size:]\n",
    "\n",
    "    return train_texts, train_labels, test_texts, test_labels \n",
    "\n",
    "def txtify_data(texts, labels, label_names, save_path):\n",
    "    \"\"\"\n",
    "    Converts a list of texts and labels to a .txt file compatible with fasttext\n",
    "\n",
    "    Args:\n",
    "        texts (np.ndarray): Train texts to be converted to .txt\n",
    "        labels (np.ndarray): Train labels so that label i corresponds to text i\n",
    "        label_names (dict): Dictionary of int: str so that int corresponds to the label name\n",
    "        save_path (str): Path where the txt file will be saved so fasttext can use it\n",
    "\n",
    "    Returns:\n",
    "        _type_: _description_\n",
    "    \"\"\"\n",
    "\n",
    "    txt = \"\"\n",
    "    for i, (text, label) in tqdm(enumerate(zip(texts, labels))):\n",
    "        text = text.lower()\n",
    "        text = re.sub('[^a-z0-9 ]+', '', text)\n",
    "\n",
    "        txt = txt + f'__label__{label_names[label]} {text}\\n'\n",
    "\n",
    "    \n",
    "    f = open(save_path, mode='w')\n",
    "    f.write(txt)\n",
    "    f.close()\n",
    "\n",
    "    return save_path\n",
    "\n",
    "# No need to run if already saved\n",
    "# path_to_train = txtify_data(train_texts, train_labels, ag_news_labels, save_path='training_data.txt')\n",
    "# path_to_test = txtify_data(test_texts, test_labels, ag_news_labels, save_path='test_data.txt')\n",
    "path_to_train = 'training_data.txt'\n",
    "path_to_test = 'test_data.txt'"
   ]
  },
  {
   "cell_type": "code",
   "execution_count": 8,
   "metadata": {},
   "outputs": [],
   "source": [
    "# Defining fasttext hyperparameters\n",
    "char_gram_length_min = 3 # If set to zero, we only train word-grams\n",
    "char_gram_length_max = 6 # If set to zero, we only train word-grams\n",
    "num_word_grams = 1 # Default value\n",
    "verbose = True # Set to false if you don't want to see training statistics\n",
    "\n",
    "# Train fasttext_word_model and fasttext_char_model respectively\n",
    "fasttext_word_model = fasttext.train_supervised(path_to_train, maxn=0, minn=0, verbose=verbose,\n",
    "                                                wordNgrams=num_word_grams)\n",
    "\n",
    "fasttext_char_model = fasttext.train_supervised(path_to_train, maxn=char_gram_length_max, minn=char_gram_length_min,\n",
    "                                                verbose=verbose, wordNgrams=num_word_grams)"
   ]
  },
  {
   "cell_type": "code",
   "execution_count": 9,
   "metadata": {},
   "outputs": [
    {
     "name": "stdout",
     "output_type": "stream",
     "text": [
      "Word model subwords: (['cat'], array([4525]))\n",
      "Character model subwords: (['<su', '<sup', '<supe', '<super', 'sup', 'supe', 'super', 'superc', 'upe', 'uper', 'uperc', 'uperca', 'per', 'perc', 'perca', 'percal', 'erc', 'erca', 'ercal', 'ercali', 'rca', 'rcal', 'rcali', 'rcalif', 'cal', 'cali', 'calif', 'califr', 'ali', 'alif', 'alifr', 'alifra', 'lif', 'lifr', 'lifra', 'lifrag', 'ifr', 'ifra', 'ifrag', 'ifragi', 'fra', 'frag', 'fragi', 'fragil', 'rag', 'ragi', 'ragil', 'ragili', 'agi', 'agil', 'agili', 'agilis', 'gil', 'gili', 'gilis', 'gilist', 'ili', 'ilis', 'ilist', 'ilisti', 'lis', 'list', 'listi', 'listic', 'ist', 'isti', 'istic', 'istice', 'sti', 'stic', 'stice', 'sticex', 'tic', 'tice', 'ticex', 'ticexp', 'ice', 'icex', 'icexp', 'icexpl', 'cex', 'cexp', 'cexpl', 'cexpli', 'exp', 'expl', 'expli', 'explia', 'xpl', 'xpli', 'xplia', 'xplial', 'pli', 'plia', 'plial', 'pliali', 'lia', 'lial', 'liali', 'lialid', 'ial', 'iali', 'ialid', 'ialido', 'ali', 'alid', 'alido', 'alidoc', 'lid', 'lido', 'lidoc', 'lidoci', 'ido', 'idoc', 'idoci', 'idocio', 'doc', 'doci', 'docio', 'dociou', 'oci', 'ocio', 'ociou', 'ocious', 'cio', 'ciou', 'cious', 'cious>', 'iou', 'ious', 'ious>', 'ous', 'ous>', 'us>'], array([2000568, 1413574, 1606497,  202199,  208096, 2037839,  321653,\n",
      "       1898166, 1495232, 1169080,  921661, 1210216,  204869, 1067878,\n",
      "       1613517,  810849, 1175568, 1853483, 1548339, 1614658,  736442,\n",
      "        305744, 1017683,  659805,  684768, 1373955, 1492205, 1937083,\n",
      "        969772,  690360,  646944, 1952219,  871425,  796023,  421302,\n",
      "        467351, 1032125,  918376, 2084353,  783436, 1571281, 1322390,\n",
      "        110133,  841097, 1323202,  841209,  410877, 1068048, 1677961,\n",
      "        554605,  341216, 1284037,  399140,  320511, 1574776,  202938,\n",
      "       1578980,  193457, 1895181,  815488, 1201424, 1890082, 1044057,\n",
      "       1307490, 1320148, 1569487, 1980632,  262199, 1951954,  910519,\n",
      "       1865642,  982404, 1810632,  690311,  451163,  820639, 1437601,\n",
      "        369161,  385641, 1397197, 1961400, 1959110,  920844,  617031,\n",
      "       1607497, 1868589,  751264,  461659, 1456092, 1996727,  679670,\n",
      "       1713116,  294417, 1068260, 1761054,  946205,  314758,  818380,\n",
      "       1806087, 1447495,  136266, 1173601, 1681613, 1064986,  969772,\n",
      "        245598, 1715895, 1932112,  426663,  860524,  108185, 1090916,\n",
      "       2080958,  302971, 1838186,  812659,  825590, 1702037,  406178,\n",
      "       1735741,  892683, 1659904,  359103,  576184,  742315, 1050894,\n",
      "       1976539,  849005,  571053,  922766, 1971658,  380231,  329449,\n",
      "        699846]))\n"
     ]
    }
   ],
   "source": [
    "# Example of how the subwords of the character model and the word model differ\n",
    "# get_subwords gets all character-gram 'parts' of the word specified...\n",
    "# ...as well as indices corresponding to the row of the given vector in the embedding matrix\n",
    "print(\"Word model subwords:\", fasttext_word_model.get_subwords('cat'))\n",
    "# Testing with longer word to see min and max n-gram lengths\n",
    "print(\"Character model subwords:\", fasttext_char_model.get_subwords('supercalifragilisticexplialidocious'))"
   ]
  },
  {
   "cell_type": "code",
   "execution_count": null,
   "metadata": {
    "collapsed": false,
    "pycharm": {
     "name": "#%%\n"
    }
   },
   "outputs": [],
   "source": [
    "def test_prediction(model, test_text, test_label=None, return_bool=True):\n",
    "    \"\"\"\n",
    "    test labels and return_bool used for when we need accuracy of the model\n",
    "    Method for testing fasttext model\n",
    "    Model should be either the character model or the word model\n",
    "\n",
    "    Args:\n",
    "        model (fasttext model): Model to be tested\n",
    "        test_text (str): Text to be tested\n",
    "        test_label (str): Label of the text, used for testing accuracy\n",
    "        return_bool (bool): If true, returns a boolean indicating if the prediction was correct, else returns the prediction\n",
    "    \"\"\"\n",
    "\n",
    "    # Reason why we index with [0][0][9:] we do: .predict outputs a tuple of certainty and the label, the label being __label__Business for example for business\n",
    "    prediction = model.predict(test_text)[0][0][9:]\n",
    "\n",
    "    if not return_bool:\n",
    "        return prediction\n",
    "\n",
    "    if prediction == test_label:\n",
    "        return True\n",
    "\n",
    "    return False\n",
    "\n",
    "# Testing the models on some toy data\n",
    "text_to_predict = 'A cat in a hat'\n",
    "prediction = test_prediction(model=fasttext_word_model, test_text=text_to_predict, return_bool=False)\n",
    "print(f\"{text_to_predict}: {prediction}\")"
   ]
  },
  {
   "cell_type": "markdown",
   "metadata": {},
   "source": [
    "### 2.1 - Getting Fasttext Accuracy\n",
    "\n",
    "**1. Implement the below function to get the accuracy of a fasttext model. It should return the accuracy of the fasttext model when trying to predict each of the four labels, as well as the average accuracy across all labels. You can use the test_prediction function above to get predictions, but you can also implement your own method.**\n",
    "\n"
   ]
  },
  {
   "cell_type": "code",
   "execution_count": 11,
   "metadata": {
    "collapsed": false,
    "pycharm": {
     "name": "#%%\n"
    }
   },
   "outputs": [
    {
     "name": "stdout",
     "output_type": "stream",
     "text": [
      "Testing fasttext word model...\n",
      "({0: 0.9089473684210526, 1: 0.9631578947368421, 2: 0.8657894736842106, 3: 0.8894736842105263}, 0.9068421052631579)\n",
      "\n",
      "Testing fasttext character model...\n",
      "({0: 0.8978947368421053, 1: 0.9647368421052631, 2: 0.868421052631579, 3: 0.8778947368421053}, 0.9022368421052631)\n",
      "\n"
     ]
    }
   ],
   "source": [
    "def test_fasttext_model(fasttext_model, test_texts, test_labels, label_names):\n",
    "    \"\"\"\n",
    "    Test the accuracy of the fasttext model on the whole test set\n",
    "    Should return the accuracy of the model on each label, as well as the total accuracy\n",
    "\n",
    "    Args:\n",
    "        fasttext_model (fasttext model): fasttext model to be tested\n",
    "        test_texts (np.ndarray): test texts to run prediction on\n",
    "        test_labels (np.ndarray): true labels of given test texts\n",
    "        label_names (dict): Dictionary of int: str so that int corresponds to the label name\n",
    "    \"\"\"\n",
    "\n",
    "    # Create a dictionary of correct answers for each label\n",
    "    # text_true = {0: test_labels[:int(len(test_labels)*0.25)], \n",
    "    #              1: test_labels[int(len(test_labels)*0.25):int(len(test_labels)*0.5)],\n",
    "    #              2: test_labels[int(len(test_labels)*0.5):int(len(test_labels)*0.75)],\n",
    "    #              3: test_labels[int(len(test_labels)*0.75):]}\n",
    "    preds = {0: [], 1: [], 2: [], 3: []}\n",
    "\n",
    "    test_labels_n = np.array([label_names[label] for label in test_labels])\n",
    "\n",
    "    # Iterate over all test texts and labels and add to aforementioned dictionary whether or not the model predicted correctly\n",
    "    for text, label, name in zip(test_texts, test_labels, test_labels_n):\n",
    "        prediction = test_prediction(fasttext_model, text, name, return_bool=True)\n",
    "        preds[label].append(prediction)\n",
    "\n",
    "    # Normalize the values in the dictionary by the total number of each label in the test set\n",
    "    normalized_preds = {k: np.mean(v) if v else None for k,v in preds.items()}    \n",
    "\n",
    "    # Get the total accuracy of the model across all labels\n",
    "    total_acc = np.mean([np.mean(v) for k,v in preds.items()])\n",
    "\n",
    "    # return the accuracy of the model on each label, as well as the total accuracy\n",
    "    return normalized_preds, total_acc\n",
    "\n",
    "print(\"Testing fasttext word model...\")\n",
    "print(test_fasttext_model(fasttext_word_model, test_texts, test_labels, ag_news_labels))\n",
    "\n",
    "print(\"\\nTesting fasttext character model...\")\n",
    "print(test_fasttext_model(fasttext_char_model, test_texts, test_labels, ag_news_labels))\n",
    "print()\n"
   ]
  },
  {
   "cell_type": "markdown",
   "metadata": {},
   "source": [
    "## Exercise 3 GloVe to create embeddings vectors\n",
    "\n",
    "*[GloVe Paper here](https://aclanthology.org/D14-1162.pdf), [GloVe Project page here](https://nlp.stanford.edu/projects/glove/)*\n",
    "\n",
    "*GloVe is called a \"global log-bilinear regression model\" which combines the strengths of global matrix factorization and local context window methods.*\n",
    "\n",
    "*In English, this means it combines methods that work by collecting information on the entire corpus, with other methods that capture more local patterns, essentially what we see with Fasttext that considers local n-grams. GloVe just considers \"context windows\" rather than an n-gram. Overall, what they want are nicely defined, linear relationships, decided by comparing the co-occurences of different words.*\n",
    "\n",
    "*The selling point really, is that while a run-of-the-mill neural network **may** be able to answer the questions: \"Skibidi is to Toilet as Fanum is to ...?\", it will not necessarily be able to do it in a linear manner. Therefore considering all the word vectors together in their latent space, may not yield good information. GloVe fixes this by keeping all vector substructures linear.*\n",
    "\n",
    "*Essentially, GloVe trains by mixing a [Skipgram model](http://mccormickml.com/2016/04/19/word2vec-tutorial-the-skip-gram-model/) (just a neural network) with a function that works more on the entire corpus, while maintaining a weighting between the two. Because GloVe works best on huge corpora of data, we are not going to train it ourselves, but just use pretrained GloVe vectors, collected from their [project page](https://nlp.stanford.edu/projects/glove/).* \n",
    "\n"
   ]
  },
  {
   "cell_type": "markdown",
   "metadata": {},
   "source": [
    "### GloVe - Theoretical questions\n",
    "\n",
    "\n",
    "**1. On their project page, GloVe gives a few different possibilities for GloVe vectors, including ones with embedding dimension 50, 100, 200, and 300. What potential downsides and upsides are there to larger/smaller embedding dimensions? Consider both training and subsequent usage.**\n",
    "\n",
    "The GloVe vector sets are collections of pre-trained vector embeddings, which come in multiple sizes. While the larger embeddings allow for richer representations, they increase training and inference costs, unlike smaller embeddings, which are computationally lighter but may struggle to capture nuanced relationships.\n",
    "\n",
    "**Context**\n",
    "\n",
    "High-dimensional embeddings allow the vectors to capture more context, since larger embeddings have a greater amount of tunable parameters. While the smaller vectors capture the most important contexts, a larger dimension can better represent words with subtle semantic differences. However diminishing returns may occur beyond a certain size. \n",
    "\n",
    "**Overfitting**\n",
    "\n",
    "While larger dimensions can capture more context, they might also risk overfitting due to their ability to capture subtle details, especially if the training data is insufficient. Essentially, while the low-dimensional embeddings capture the general trends in the data, the high-dimensional vectors will have more opportunity to fit the data on more parameters, which can sometimes be a good thing and sometimes a bad thing, depending on the size and quality of the dataset. This also means that for small datasets it would typically be a good choice to use a smaller embedding size, and vice versa.\n",
    "\n",
    "\n",
    "**Computational efficiency**\n",
    "\n",
    "High dimensional embeddings also mean more expensive computations, both during training and for downstream tasks. If using the Transformer architecture, the positional embeddings must match the dimensionality of the word embeddings. While sinusoidal positional encodings, using the harmonic bases, are computationally efficient, learned positional embeddings could increase computational cost during training, due to backpropagation running over a larger parameter space, and slower inference due to matrix operations and dot product operations on higher-dimensional vectors. '\n",
    "\n",
    "Larger embeddings also require more memory for storage. The embedding size directly scales the number of parameters in the embedding layer. For a vocabulary of size $V$ and embedding size $D$, the embedding layer will have $V \\times D$ parameters. This means that the amount of memory that must be allocated for storing the vectors, increases linearly with the embedding size.\n",
    "\n",
    "\n",
    "**2. Also on their webage, they give two options for the \"Common Crawl\" GloVe vector set: \"42B tokens, 1.9M vocab, 300d vectors\" and \"840B tokens, 2.2M vocab, 300d vectors\". What are the differences between these?**\n",
    "\n",
    "Both GloVe vector sets are rather large, however the smallest one (40B tokens) is a subset of the larger corpus (840B tokens), which covers more text and is likely to contain richer and more diverse linguistic patterns, leading to potentially better embeddings for rare or less frequent words.\n",
    "\n",
    "\n",
    "**3. Given just a bunch of embedding vectors from a known GloVe embedding, it is usually not possible to get a 1-1 correspondance of what words these vectors were. Why is this?**\n",
    "\n",
    "The reason it is typically not possible to establish a 1-1 correspondence between embedding vectors from different models is that the vectors themselves do not contain information about their corresponding words. Embeddings rely on an external vocabulary file to map each vector to its associated word, which is a list of all the words in the model’s vocabulary, stored in a fixed order. The order of words in this vocabulary file determines the correspondence between rows in the embedding matrix and their associated words.\n",
    "\n",
    "\n",
    "**4. How would you most closely estabilsh this 1-1 correspondance between given vectors from a known GloVe embedding and their corresponding words?**\n",
    "\n",
    "When embeddings come from a different model (e.g., trained on a different corpus or with different hyperparameters), the latent spaces, where semantic relationships are encoded, may differ. This variance in the semantic spaces means that the same or similar vector values in one model might correspond to entirely different words in another. Additionally, the relationships between vectors, such as distances and directions that encode semantic meaning, can vary between models, further complicating any attempt at direct correspondence.\n",
    "\n",
    "However one way to closely establish a 1-1 correspondence between vectors and their words is by leveraging relative representations, which preserves the relationships between vectors, such as distances and directions in the embedding space. These relationships often encode semantic meaning and can be used to align embeddings or approximate word mappings without needing the original vocabulary file.\n",
    "\n",
    "This process can involve techniques like zero-shot stitching, where embeddings are aligned or mapped based on their relative structures (e.g., using known anchor points or inference methods). While relative representation allows for reconstructing or aligning embeddings effectively, absolute representation (the raw numerical values of vectors) alone does not provide enough information to recover the word mappings directly.\n",
    "\n",
    "\n",
    "$\\star$ **5. Why can't we just use a Python dictionary with vectors as keys and words as values? (essentially a reverse GloVe dictionary)**\n",
    "\n",
    "$\\dots$\n",
    "\n",
    "\n",
    "$\\star$ **6. In the GloVe paper, they say they attempt to model $F(w_i, w_j, \\tilde{w_k}) = \\frac{P_{ik}}{P_jk}$. That is, the probability of one word given another, compared to the probability of that same word given a third word. For this, they briefly consider using a neural network as the function $F$ but decide against it, as \"doing so would obfuscate the linear strcutures we are trying to capture\", what linear structures are talked about and how would they be obfuscated by using something like a neural network?**\n",
    "\n",
    "$\\dots$\n",
    "\n"
   ]
  },
  {
   "cell_type": "code",
   "execution_count": 12,
   "metadata": {},
   "outputs": [],
   "source": [
    "def load_glove(glove_path):\n",
    "    \"\"\"\n",
    "    Loads a GloVE vectors from a given path\n",
    "\n",
    "    Args:\n",
    "        glove_path (str): Path to the GloVE txt file\n",
    "\n",
    "    Returns:\n",
    "        glove (dict): Dictionary of word: vector pairs\n",
    "    \"\"\"\n",
    "    glove = {}\n",
    "    \n",
    "    print(\"Creating GloVE dictionary...\")\n",
    "    with open(glove_path, 'r') as f:\n",
    "        for line in tqdm(f):\n",
    "            values = line.split()\n",
    "            glove[values[0]] = np.asarray(values[1:], 'float32')\n",
    "            # word = values[0]\n",
    "            # vector = np.asarray(values[1:], 'float32')\n",
    "            # glove[word] = vector\n",
    "    \n",
    "    return glove\n",
    "\n",
    "def create_GloVE_vector(text, glove):\n",
    "    \"\"\"\n",
    "    Creates a GloVE vector for a given longer text and GloVe dictionary\n",
    "    \"\"\"\n",
    "    text = text.lower()\n",
    "    text = re.sub('[^a-z0-9 ]+', '', text)\n",
    "    text = text.split()\n",
    "\n",
    "    # Create a vector of zeros with the same shape as the GloVE vectors\n",
    "    vector = np.zeros_like(glove['the'])\n",
    "\n",
    "    for word in text:\n",
    "        if word in glove:\n",
    "            vector += glove[word]\n",
    "\n",
    "    vector = np.mean(vector)\n",
    "    return vector\n"
   ]
  },
  {
   "cell_type": "code",
   "execution_count": 13,
   "metadata": {},
   "outputs": [
    {
     "name": "stdout",
     "output_type": "stream",
     "text": [
      "Creating GloVE dictionary...\n"
     ]
    },
    {
     "name": "stderr",
     "output_type": "stream",
     "text": [
      "400000it [00:04, 86748.49it/s]\n"
     ]
    }
   ],
   "source": [
    "# Load GloVe dictionary, doing it here since we only wanna do it once, since it takes a fuckton of time\n",
    "glove = load_glove('data/glove.6B.50d.txt')"
   ]
  },
  {
   "cell_type": "markdown",
   "metadata": {},
   "source": [
    "### 3.1 Word similarity\n",
    "\n",
    "**1. Complete the word similarity function below. It should compute the cosine simliarity between two provided word embedding vectors.**\n",
    "\n",
    "**2. Briefly comment on the similarities obtained when running the cell two spaces below**\n",
    "\n",
    "It is apparent that the contextual similarities found are accurate, since firstly, identical words \"cat\" and \"cat\" have a similarity of 1, which they should as they are semantically identical. Secondly and also notably, \"cat\" and \"dog\" has a similarity of 0.92, which is very high, and this makes sense since both words describe animals, more specifically pets. Since both words describe pets, this means that \"cat\" and \"dog\" is interchangable in a large amount of situations, which means that their contextual similarity is very high, as captured by the GloVe similarity."
   ]
  },
  {
   "cell_type": "code",
   "execution_count": 14,
   "metadata": {},
   "outputs": [],
   "source": [
    "def word_similarity(vec1, vec2, glove=None):\n",
    "    \"\"\"\n",
    "    Gets the cosine similarity between two vectors or two words in the GloVE dictionary\n",
    "\n",
    "    Args:\n",
    "        vec1 (np.ndarray, str): First vector to compare to the second\n",
    "        vec2 (np.ndarray, str): Second vector to compare to the first\n",
    "        glove (dict): GloVe dictionary if we want to compare words instead of just vectors, else None\n",
    "\n",
    "    Returns:\n",
    "        float: Cosine similarity of the two vectors or words\n",
    "    \"\"\"\n",
    "\n",
    "    # Get the vectors from the GloVE dictionary if the input is a string\n",
    "    if glove is not None:\n",
    "        vec1, vec2 = glove[vec1], glove[vec2]\n",
    "    \n",
    "    # Return the cosine similarity of the two vectors\n",
    "    norm_v1 = np.linalg.norm(vec1) # np.sqrt(np.power(vec1, 2)) does not return same results for some reason\n",
    "    norm_v2 = np.linalg.norm(vec2)\n",
    "    return np.dot(vec1, vec2) / (norm_v1 * norm_v2)\n"
   ]
  },
  {
   "cell_type": "code",
   "execution_count": 15,
   "metadata": {},
   "outputs": [
    {
     "name": "stdout",
     "output_type": "stream",
     "text": [
      "GloVe similarity between cat and dog is 0.921800434589386\n",
      "GloVe similarity between cat and banana is 0.33965176343917847\n",
      "GloVe similarity between cat and cat is 1.0\n",
      "GloVe similarity between camera and man is 0.47356218099594116\n",
      "GloVe similarity between steel and beams is 0.5590428709983826\n",
      "GloVe similarity between six and 6 is 0.7447779178619385\n"
     ]
    }
   ],
   "source": [
    "# Test the word simliarity function on some word pairs\n",
    "\n",
    "word_pairs = [('cat', 'dog'), ('cat', 'banana'), ('cat', 'cat'), ('camera', 'man'), ('steel', 'beams'), ('six', '6')]\n",
    "\n",
    "for word1, word2 in word_pairs:\n",
    "    print(f\"GloVe similarity between {word1} and {word2} is {word_similarity(word1, word2, glove)}\")"
   ]
  },
  {
   "cell_type": "markdown",
   "metadata": {},
   "source": [
    "### $\\star$ 3.2 GloVe vector word\n",
    "\n",
    "**1. Implement the function below which, given a GloVe vector for a word, finds what word it was before it was embedded**\n",
    "\n",
    "**2. Slowly add more words to the 'words' list two cells below. At what point do you reckon a text, transformed to GloVe vectors becomes too long to lookup words for each vector in it?**\n",
    "\n",
    "$\\dots$\n",
    "\n",
    "**$\\star \\star$ 3. Why is this method so slow? What factors influence its speed? How could you levearage things like asynchronous execution or multithreading to speed it up?**\n",
    "\n",
    "$\\dots$\n",
    "\n",
    "**$\\star \\star \\star \\star \\star$ Implment this asynchronous execution or multithreading**"
   ]
  },
  {
   "cell_type": "code",
   "execution_count": 16,
   "metadata": {},
   "outputs": [],
   "source": [
    "def find_closest_word(target_vector, glove_lookup):\n",
    "    \"\"\"\n",
    "    Finds the closest word in the GloVE dictionary to a given vector\n",
    "\n",
    "    Args:\n",
    "        target_vector (np.ndarray): Vector to find the closest word to\n",
    "        glove_lookup (dict): GloVE dictionary to look up the closest word in \n",
    "\n",
    "    Returns:\n",
    "        str: Word in keys of glove_lookup closest to target_vector\n",
    "    \"\"\"\n",
    "    # Define an initial max similarity and closest word (both to be updated)\n",
    "    ...\n",
    "\n",
    "    # Iterate over all words in the GloVE dictionary and find the most similar one to the target vector\n",
    "    ...\n",
    "    \n",
    "\n",
    "    # If the similarity is higher than the current max, update the max similarity and closest word\n",
    "    ...\n",
    "\n",
    "    return ..."
   ]
  },
  {
   "cell_type": "code",
   "execution_count": 17,
   "metadata": {},
   "outputs": [
    {
     "name": "stdout",
     "output_type": "stream",
     "text": [
      "Closest word found to actual word cat: Ellipsis\n"
     ]
    }
   ],
   "source": [
    "words = ['cat']\n",
    "\n",
    "for i, word in enumerate(words):\n",
    "    word_vector = glove[word]\n",
    "    closest_word = find_closest_word(word_vector, glove)\n",
    "    print(f\"Closest word found to actual word {words[i]}:\", closest_word)"
   ]
  },
  {
   "cell_type": "markdown",
   "metadata": {
    "collapsed": false
   },
   "source": [
    "## Exercise 4 Comparing word embeddings vectors\n",
    "\n",
    "*Since both GloVe and Fasttext, at their core, are both methods for egenerating embedding vectors, it would make sense to examine how they look compared to one another. Since both live in high-dimensional spaces, we must perform PCA on them to actually make sense of them in a graphical way.*"
   ]
  },
  {
   "cell_type": "markdown",
   "metadata": {},
   "source": [
    "### Word Embeddings - Theoretical questions\n",
    "\n",
    "**1. Explain shortly what you expect to find if we perform PCA on the matrix of word-embeddings, that is the matrix which holds a vector representation of each word in our vocabulary**\n",
    "\n",
    "Firstly we would expect to see some relatively dense clustering within each of the groups, since we have a very large amount of datapoints. Secondly we would expect to see some overlap between clusters, and since business and science/technology is very closely related we would expect those clusters to have the most significant overlap.\n",
    "\n",
    "Furthermore, the first and second principal components explains the greatest amount of variance in the data, hence we expect these components to give us the best clustering overall.\n",
    "\n",
    "**2. When getting vectors for all words in a large text, GloVe should be significantly faster than Fasttext, why is this?**\n",
    "\n",
    "GloVe already has the pretained vector embeddings, which means that retrieving a words embedding is essentially a lookup operation in constant time per word, while the Fasttext on the other hand represents words using subword embeddings (e.g., n-grams). This means that Fasttext has to compute the embedding by combining embeddings for its subword components for each word, which is a lot more demanding.\n",
    "\n",
    "We note that GloVe embeddings have no way of handling out-of-vocabulary (OOV) words natively, whilst Fasttext can do this by leveraging its subword structure. This means that GloVe provides no meaningful representation for OOV words. However since we are dealing with a large dataset, this is less of an issue, since the vocabulary is large and OOV words for that reason are less common.\n",
    "\n",
    "**3. Which model (GloVe or fasttext) do you think performs best at seperating the four classes of the AG News dataset if we get average embedding vectors for each text in the training and testing dataset, perform PCA on these and plot them on the two top principal components. And why do you think that model performs best at seperating the four classes?**\n",
    "\n",
    "GloVe stores the context in the embeddings, while fasttext learns embeddings based on subword (n-gram) information. For this reason, we expect GloVe to perform better in this classification task, since the classification is made based on the context of each sentence and not the semantic similarity. \n",
    "\n",
    "For instance GloVe captures the inherent contextual relationship between the vectors for \"king\" and \"queen\".\n",
    "\n",
    "$ \\text{vec}(\\text{“king”}) - \\text{vec}(\\text{“man”}) + \\text{vec}(\\text{“woman”}) \\approx \\text{vec}(\\text{“queen”}) $\n",
    "\n",
    "While Fasttext instead looks at how similar the words and their n-grams are semantically.\n",
    " \n",
    "In Fasttext the “king” and “queen” representations are influenced by their shared character-level components (e.g. the insersection between their n-grams.)\n",
    "\n",
    "For instance $(<qu, que, uee, een, en>, <quee, ueen>, <queen>)$ and $(<ki, kin, ing, ng> , <kin, king, ing> , <king, king>)$. Note while queen and king shares contextual similarity they have no subwords (n-grams) in common.\n",
    "\n",
    "This means that Fasttext will not represent high-level relationships like $\\text{“king”} - \\text{“man”} + \\text{“woman”} = \\text{“queen”}$ effectively.\n",
    "\n",
    "However since FastText captures the semantic relationships between words. Words like “goal,” “match,” and “player” (related to Sports) will have embeddings close to each other because they frequently co-occur in sports-related texts. This can provide some degree of meaningful separation between sentence clusters."
   ]
  },
  {
   "cell_type": "markdown",
   "metadata": {},
   "source": [
    "### 4.1 General for all tasks in exercise 4\n",
    "\n",
    "**1. Below, we define the current_model as a fasttext_word_model. Run the code with this, but also try changing it to a fasttext_char_model or the glove dictionary. All should work, and should produce different results. After rerunning the code cells. Comment generally on the differences observed between the different models**\n"
   ]
  },
  {
   "cell_type": "code",
   "execution_count": 18,
   "metadata": {},
   "outputs": [],
   "source": [
    "# current_model = glove\n",
    "# current_model_name = fasttext_char_model\n",
    "# current_model = fasttext_word_model\n",
    "# current_model = fasttext_char_model"
   ]
  },
  {
   "cell_type": "code",
   "execution_count": 19,
   "metadata": {},
   "outputs": [],
   "source": [
    "# feats_train = []\n",
    "# feats_test = []\n",
    "\n",
    "# def clean(text):\n",
    "#     \"\"\"\n",
    "#     Cleaning text of non-alphanumerics using the aforementioned string translation table\n",
    "#     Just for convenience in regards to GloVe and useful word vectors\n",
    "#     \"\"\"\n",
    "#     translator = str.maketrans('', '', string.punctuation)\n",
    "#     return text.translate(translator).lower()\n",
    "\n",
    "# def get_average_embedding_vectors(model, train_texts, test_texts):\n",
    "#     print(\"Getting fasttext average embedding vectors for each class...\")\n",
    "#     placeholder = np.zeros_like(glove['the'])\n",
    "\n",
    "#     for text in tqdm(train_texts):\n",
    "#         words = clean(text).split()\n",
    "#         if getattr(model, 'get', False):\n",
    "#             feats_train.append(np.mean([model.get(word, placeholder) for word in words], axis=0))\n",
    "#         else:\n",
    "#             feats_train.append(np.mean([model.get_word_vector(word) for word in words], axis=0))\n",
    "\n",
    "#     # Same but for each text in test set\n",
    "#     for text in tqdm(test_texts):\n",
    "#         words = clean(text).split()\n",
    "#         if getattr(model, 'get', False):\n",
    "#             feats_test.append(np.mean([model.get(word, placeholder) for word in words], axis=0))\n",
    "#         else:\n",
    "#             feats_test.append(np.mean([model.get_word_vector(word) for word in words], axis=0))\n",
    "\n",
    "#     return np.array(feats_train), np.array(feats_test)\n",
    "\n",
    "# feats_train, feats_test = get_average_embedding_vectors(current_model, train_texts, test_texts)"
   ]
  },
  {
   "cell_type": "code",
   "execution_count": 20,
   "metadata": {},
   "outputs": [],
   "source": [
    "# def plot_pca(n_components, feats_train, feats_test, train_labels, test_labels, label_names):\n",
    "#     \"\"\"\n",
    "#     Does PCA with n_components on given features and plots the result in two dimensions\n",
    "\n",
    "#     Args:\n",
    "#         n_components (int): How many components to use in the PCA\n",
    "#         feats_train (np.ndarray): Average embedding vectors for each text in the training set\n",
    "#         feats_test (np.ndarray): Average embedding vectors for each text in the test set\n",
    "#         train_labels (np.ndarray): Labels for each text in the training set\n",
    "#         test_labels (np.ndarray): Labels for each text in the test set\n",
    "#         label_names (dict): Dictionary of int: str so that int corresponds to the label name\n",
    "#     \"\"\"\n",
    "\n",
    "#     pca = PCA(n_components=n_components)\n",
    "\n",
    "#     # fit_transform avoids having to manually transform the vectors with the matrix afterwards\n",
    "#     Vtrain = pca.fit_transform(feats_train)\n",
    "#     Vtrain_var_explained = pca.explained_variance_ratio_\n",
    "\n",
    "#     Vtest = pca.fit_transform(feats_test)\n",
    "#     Vtest_var_explained = pca.explained_variance_ratio_\n",
    "\n",
    "#     colors = 'rgbk'\n",
    "#     for label, transformed_vector, title in zip([train_labels, test_labels], [Vtrain, Vtest], [f'Training set var_explained: {sum(Vtrain_var_explained[:2])}', f'Test set, var_explained: {sum(Vtest_var_explained[:2])}']):\n",
    "#         plt.figure(figsize=(20, 6))\n",
    "#         plt.subplot(1, 3, 1)\n",
    "#         for i in range(4):\n",
    "#             plt.plot(transformed_vector[label==i, 0], transformed_vector[label==i, 1], '.', color=colors[i], label=label_names[i])\n",
    "#         plt.legend()\n",
    "#         plt.xlabel('PC1')\n",
    "#         plt.ylabel('PC2')\n",
    "\n",
    "#         plt.subplot(1, 3, 2)\n",
    "#         for i in range(4):\n",
    "#             plt.plot(transformed_vector[label==i, 1], transformed_vector[label==i, 2], '.', color=colors[i], label=label_names[i])\n",
    "#         plt.legend()\n",
    "#         plt.xlabel('PC2')\n",
    "#         plt.ylabel('PC3')\n",
    "\n",
    "#         plt.subplot(1, 3, 3)\n",
    "#         for i in range(4):\n",
    "#             plt.plot(transformed_vector[label==i, 2], transformed_vector[label==i, 3], '.', color=colors[i], label=label_names[i])\n",
    "#         plt.legend()\n",
    "#         plt.xlabel('PC3')\n",
    "#         plt.ylabel('PC4')\n",
    "#         plt.suptitle(title, fontweight='bold', fontsize=15)\n",
    "\n",
    "#     # Plot explained variance\n",
    "#     plt.figure(figsize=(10, 6))\n",
    "#     plt.plot(list(range(n_components)),np.cumsum(pca.explained_variance_ratio_))\n",
    "#     plt.title(\"Explained variance compared to number of components\")\n",
    "#     plt.xlabel(\"Number of components\")\n",
    "#     plt.ylabel(\"Explained variance\")\n",
    "#     plt.grid()\n",
    "#     plt.show()\n",
    "\n",
    "#     return pca\n",
    "\n",
    "# n_components = 50\n",
    "# pca_word_vec = plot_pca(n_components, feats_train, feats_test, train_labels, test_labels, ag_news_labels)\n",
    "\n"
   ]
  },
  {
   "cell_type": "code",
   "execution_count": 21,
   "metadata": {},
   "outputs": [
    {
     "name": "stdout",
     "output_type": "stream",
     "text": [
      "Processing model: glove\n"
     ]
    },
    {
     "name": "stderr",
     "output_type": "stream",
     "text": [
      "Generating train embeddings: 100%|██████████| 120000/120000 [00:06<00:00, 19915.60it/s]\n",
      "Generating test embeddings: 100%|██████████| 7600/7600 [00:00<00:00, 19653.77it/s]\n"
     ]
    },
    {
     "name": "stdout",
     "output_type": "stream",
     "text": [
      "Plots saved for model: glove\n",
      "Processing model: fasttext_word_model\n"
     ]
    },
    {
     "name": "stderr",
     "output_type": "stream",
     "text": [
      "Generating train embeddings: 100%|██████████| 120000/120000 [00:57<00:00, 2086.50it/s]\n",
      "Generating test embeddings: 100%|██████████| 7600/7600 [00:03<00:00, 2145.00it/s]\n"
     ]
    },
    {
     "name": "stdout",
     "output_type": "stream",
     "text": [
      "Plots saved for model: fasttext_word_model\n",
      "Processing model: fasttext_char_model\n"
     ]
    },
    {
     "name": "stderr",
     "output_type": "stream",
     "text": [
      "Generating train embeddings: 100%|██████████| 120000/120000 [00:53<00:00, 2243.45it/s]\n",
      "Generating test embeddings: 100%|██████████| 7600/7600 [00:03<00:00, 2302.02it/s]\n"
     ]
    },
    {
     "name": "stdout",
     "output_type": "stream",
     "text": [
      "Plots saved for model: fasttext_char_model\n"
     ]
    }
   ],
   "source": [
    "import os\n",
    "import string\n",
    "import numpy as np\n",
    "import matplotlib.pyplot as plt\n",
    "from sklearn.decomposition import PCA\n",
    "from tqdm import tqdm\n",
    "\n",
    "\n",
    "def clean(text):\n",
    "    \"\"\"\n",
    "    Cleaning text of non-alphanumerics for GloVe and useful word vectors.\n",
    "    \"\"\"\n",
    "    translator = str.maketrans('', '', string.punctuation)\n",
    "    return text.translate(translator).lower()\n",
    "\n",
    "\n",
    "def get_average_embedding_vectors(model, train_texts, test_texts):\n",
    "    \"\"\"\n",
    "    Generates average embedding vectors for train and test sets.\n",
    "    \"\"\"\n",
    "    feats_train = []\n",
    "    feats_test = []\n",
    "    placeholder = np.zeros_like(model['the'])  # Adjusted for GloVe\n",
    "\n",
    "    # Generate train embeddings\n",
    "    for text in tqdm(train_texts, desc=\"Generating train embeddings\"):\n",
    "        words = clean(text).split()\n",
    "        if hasattr(model, 'get'):  # For GloVe\n",
    "            feats_train.append(np.mean([model.get(word, placeholder) for word in words], axis=0))\n",
    "        else:  # For FastText\n",
    "            feats_train.append(np.mean([model.get_word_vector(word) for word in words], axis=0))\n",
    "\n",
    "    # Generate test embeddings\n",
    "    for text in tqdm(test_texts, desc=\"Generating test embeddings\"):\n",
    "        words = clean(text).split()\n",
    "        if hasattr(model, 'get'):  # For GloVe\n",
    "            feats_test.append(np.mean([model.get(word, placeholder) for word in words], axis=0))\n",
    "        else:  # For FastText\n",
    "            feats_test.append(np.mean([model.get_word_vector(word) for word in words], axis=0))\n",
    "\n",
    "    return np.array(feats_train), np.array(feats_test)\n",
    "\n",
    "\n",
    "def plot_pca_and_save(n_components, feats_train, feats_test, train_labels, test_labels, label_names, model_name, save_dir):\n",
    "    \"\"\"\n",
    "    Performs PCA on the features, plots the results, and saves the plots.\n",
    "    \"\"\"\n",
    "    pca = PCA(n_components=n_components)\n",
    "\n",
    "    # Fit and transform PCA\n",
    "    Vtrain = pca.fit_transform(feats_train)\n",
    "    Vtest = pca.transform(feats_test)\n",
    "    Vtrain_var_explained = pca.explained_variance_ratio_\n",
    "    Vtest_var_explained = pca.explained_variance_ratio_\n",
    "\n",
    "    # Create model subfolder\n",
    "    model_dir = os.path.join(save_dir, model_name)\n",
    "    os.makedirs(model_dir, exist_ok=True)\n",
    "\n",
    "    # Generate PCA scatter plots for train and test\n",
    "    colors = 'rgbk'\n",
    "    for label, transformed_vector, title, set_name in zip(\n",
    "        [train_labels, test_labels],\n",
    "        [Vtrain, Vtest],\n",
    "        [f'Training set var_explained: {sum(Vtrain_var_explained[:2]):.4f}', f'Test set var_explained: {sum(Vtest_var_explained[:2]):.4f}'],\n",
    "        ['train', 'test']\n",
    "    ):\n",
    "        plt.figure(figsize=(20, 6))\n",
    "        plt.subplot(1, 3, 1)\n",
    "        for i in range(4):\n",
    "            plt.plot(transformed_vector[label == i, 0], transformed_vector[label == i, 1], '.', color=colors[i], label=label_names[i])\n",
    "        plt.legend()\n",
    "        plt.xlabel('PC1')\n",
    "        plt.ylabel('PC2')\n",
    "\n",
    "        plt.subplot(1, 3, 2)\n",
    "        for i in range(4):\n",
    "            plt.plot(transformed_vector[label == i, 1], transformed_vector[label == i, 2], '.', color=colors[i], label=label_names[i])\n",
    "        plt.legend()\n",
    "        plt.xlabel('PC2')\n",
    "        plt.ylabel('PC3')\n",
    "\n",
    "        plt.subplot(1, 3, 3)\n",
    "        for i in range(4):\n",
    "            plt.plot(transformed_vector[label == i, 2], transformed_vector[label == i, 3], '.', color=colors[i], label=label_names[i])\n",
    "        plt.legend()\n",
    "        plt.xlabel('PC3')\n",
    "        plt.ylabel('PC4')\n",
    "        plt.suptitle(title, fontweight='bold', fontsize=15)\n",
    "\n",
    "        # Save scatter plot\n",
    "        plot_path = os.path.join(model_dir, f\"{set_name}_pca_plot.png\")\n",
    "        plt.savefig(plot_path)\n",
    "        plt.close()\n",
    "\n",
    "    # Save explained variance plot\n",
    "    plt.figure(figsize=(10, 6))\n",
    "    plt.plot(list(range(n_components)), np.cumsum(pca.explained_variance_ratio_))\n",
    "    plt.title(\"Explained variance compared to number of components\")\n",
    "    plt.xlabel(\"Number of components\")\n",
    "    plt.ylabel(\"Explained variance\")\n",
    "    plt.grid()\n",
    "    var_plot_path = os.path.join(model_dir, \"explained_variance_plot.png\")\n",
    "    plt.savefig(var_plot_path)\n",
    "    plt.close()\n",
    "\n",
    "    print(f\"Plots saved for model: {model_name}\")\n",
    "    return pca\n",
    "\n",
    "\n",
    "# Model mapping and processing\n",
    "models = {\n",
    "    \"glove\": glove,  \n",
    "    \"fasttext_word_model\": fasttext_word_model,  \n",
    "    \"fasttext_char_model\": fasttext_char_model   \n",
    "}\n",
    "\n",
    "# Loop through all models\n",
    "save_dir = \"pca_plots\"  # Set the directory for saving PCA plots\n",
    "for model_name, current_model in models.items():\n",
    "    print(f\"Processing model: {model_name}\")\n",
    "\n",
    "    # Generate embeddings\n",
    "    feats_train, feats_test = get_average_embedding_vectors(current_model, train_texts, test_texts)\n",
    "\n",
    "    # Plot PCA and save results\n",
    "    plot_pca_and_save(n_components=50, feats_train=feats_train, feats_test=feats_test,\n",
    "                      train_labels=train_labels, test_labels=test_labels,\n",
    "                      label_names=ag_news_labels, model_name=model_name, save_dir=save_dir)"
   ]
  },
  {
   "cell_type": "markdown",
   "metadata": {},
   "source": [
    "All three models were able to capture differences between categories effectively, as demonstrated by the clustering results. For all models, clusters for the categories (e.g., “World,” “Sports,” “Business,” and “Science/Technology”) are generally distinct, particularly along PC1 and PC2. This indicates that the embeddings from each model encode meaningful relationships between the categories. However, some overlap, especially between “Business” and “Sci/Tech,” is still evident. This is expected since these domains often share vocabulary and context.\n",
    "\n",
    "For FastText, both the character and word models show strong performance in concentrating variance into the first few dimensions. The explained variance (EV) was 0.7924 for the character model and 0.7626 for the word model. These results suggest that FastText embeddings encode their most meaningful information in a small number of dimensions, making them well-suited for low-dimensional tasks like clustering and visualization. The explained variance plots for FastText models further emphasize this, with the curves saturating quickly after just a few components.\n",
    "\n",
    "In contrast, the GloVe model shows a lower EV of 0.3053, indicating that its top principal components capture far less variance than the FastText models. The explained variance plot for GloVe exhibits a slower, logistic-like growth, reflecting the model’s reliance on a larger number of dimensions to effectively represent the data. While this limits its effectiveness in reduced-dimensional spaces, it does not necessarily imply that GloVe is inferior overall. Instead, it highlights that GloVe embeddings spread their information across more dimensions, potentially allowing for nuanced representations in high-dimensional tasks.\n",
    "\n",
    "Conclusion:\n",
    "While all models demonstrated the ability to cluster categories effectively, FastText outperforms GloVe in representing clusters in lower-dimensional spaces. This makes FastText better suited for tasks that rely on dimensionality reduction. However, GloVe may excel in high-dimensional applications where the full embedding space can be utilized to capture more nuanced contextual information. The choice between these models should therefore depend on the specific task and whether low-dimensional or high-dimensional representations are more critical."
   ]
  },
  {
   "cell_type": "markdown",
   "metadata": {},
   "source": [
    "### 4.2 PCA projection\n",
    "\n",
    "**1. Complete the function below to get a word vector a word and project it to a given PCA with n principal components**\n",
    "\n",
    "\n",
    "**2. Comment on the plot created two cells below. Do the vectors correspond to what you'd expect?**\n",
    "\n",
    "Yes we see very sufficient contextual clustering between animals, technology-related words and business-related words.\n",
    "\n",
    "**3. What must we be cognisant of when doing PCA plots like this on $n$ principal components?**\n",
    "\n",
    "When performing PCA plots with n principal components, it is important to recognize that dimensionality reduction may lead to information loss. The clusters observed in 2D are approximations and may not fully capture the true relationships in the original high-dimensional space. Additionally, the explained variance of the selected components should be carefully evaluated to ensure that a meaningful proportion of the variance is retained.\n"
   ]
  },
  {
   "cell_type": "code",
   "execution_count": 33,
   "metadata": {},
   "outputs": [],
   "source": [
    "# current_model = glove\n",
    "# current_model_name = \"glove\" \n",
    "\n",
    "# current_model = fasttext_word_model\n",
    "# current_model_name = \"fasttext_word_model\"\n",
    "\n",
    "current_model = fasttext_char_model\n",
    "current_model_name = \"fasttext_char_model\"\n",
    "n = 20"
   ]
  },
  {
   "cell_type": "code",
   "execution_count": null,
   "metadata": {},
   "outputs": [
    {
     "name": "stdout",
     "output_type": "stream",
     "text": [
      "Plot saved to plots\\word_embeddings_pca_fasttext_char_model.png\n"
     ]
    },
    {
     "data": {
      "image/png": "[encoded data removed]",
      "text/plain": [
       "<Figure size 2800x1000 with 1 Axes>"
      ]
     },
     "metadata": {},
     "output_type": "display_data"
    }
   ],
   "source": [
    "# Function to save plot\n",
    "def save_plot(fig, filename, folder=\"plots\"):\n",
    "    \"\"\"\n",
    "    Saves the current plot to the specified folder with the given filename.\n",
    "\n",
    "    Args:\n",
    "        fig: Matplotlib figure object.\n",
    "        filename (str): Name of the file to save (e.g., 'plot.png').\n",
    "        folder (str): Folder where the plot should be saved.\n",
    "    \"\"\"\n",
    "    # Ensure the folder exists\n",
    "    os.makedirs(folder, exist_ok=True)\n",
    "\n",
    "    # Save the figure\n",
    "    fig.savefig(os.path.join(folder, filename), bbox_inches=\"tight\")\n",
    "    print(f\"Plot saved to {os.path.join(folder, filename)}\")\n",
    "\n",
    "def get_vector_transform(word, model, pca, n=2):\n",
    "    word_vec = model[word]\n",
    "    word_vec = word_vec.reshape(1, -1)\n",
    "    transformed_vec = pca.transform(word_vec)[:, :n]  # Select the top n components\n",
    "    return transformed_vec.flatten()  # Return the flattened vector\n",
    "\n",
    "# Collect word vectors for the given words\n",
    "words = ['company', 'business', 'cat', 'software', 'microsoft', 'mouse']\n",
    "word_vectors = np.array([current_model[word] for word in words if word in current_model])\n",
    "\n",
    "# Fit PCA\n",
    "pca_word_vec = PCA(n_components=n)\n",
    "pca_word_vec.fit(word_vectors)\n",
    "\n",
    "# Transform word vectors\n",
    "transformed_word_vectors = [get_vector_transform(i, current_model, pca_word_vec, n=2) for i in words]\n",
    "\n",
    "# Plot transformed vectors\n",
    "fig = plt.figure(figsize=(28, 10))  # Create a figure to save later\n",
    "ax = plt.subplot(1, 2, 1)\n",
    "\n",
    "for idx, vec in enumerate(transformed_word_vectors):\n",
    "    # Plot line from origin to transformed vector\n",
    "    plt.plot([0, vec[0]], [0, vec[1]], 'b--')\n",
    "    # Add a circle at the transformed vector position\n",
    "    circle = plt.Circle((vec[0], vec[1]), radius=0.015, color='blue', fill=False)\n",
    "    ax.add_patch(circle)\n",
    "    # Annotate the word at the transformed vector position\n",
    "    label = ax.annotate(words[idx], xy=(vec[0], vec[1]), fontsize=20, ha=\"center\", va=\"center\")\n",
    "\n",
    "# Add labels\n",
    "plt.xlabel('Latent Semantic dim 1')\n",
    "plt.ylabel('Latent Semantic dim 2')\n",
    "plt.title(f'PCA Projection of Word Embeddings ({current_model_name})')\n",
    "\n",
    "# Generate filename with model name\n",
    "filename = f\"word_embeddings_pca_{current_model_name}.png\"\n",
    "\n",
    "# Save the plot to a file\n",
    "save_plot(fig, filename)\n",
    "\n",
    "# Show the plot\n",
    "plt.show()"
   ]
  },
  {
   "cell_type": "markdown",
   "metadata": {},
   "source": [
    "### 4.3 Comparing with more principal components\n",
    "\n",
    "**1. Run the cell below to compare different words to the previous list of words. How do they compare? Do these comparisons change significantly when you run with more principal components?**\n",
    "\n",
    "\n",
    "Similar Words:\n",
    "Words that are contextually similar, like \"software\" and \"microsoft\", have high similarity scores (e.g., 0.7986).\n",
    "\"business\" and \"company\" also have a relatively high similarity score (0.3158), aligning with their shared semantic context.\n",
    "\n",
    "Dissimilar Words:\n",
    "Words from different contexts, such as \"cat\" and \"software\" or \"mouse\" and \"business\", show negative or low similarity scores (e.g., -0.3071 for \"cat-software\").\n",
    "\n",
    "Self-Similarity:\n",
    "As expected, comparisons of the same word yield a similarity of 1.0 (e.g., \"software-software\").\n",
    "\n",
    "Unexpected Patterns:\n",
    "Some unrelated pairs have unexpectedly high similarity scores (e.g., \"mouse-business\": 0.3093), likely due to information loss when reducing to just 2 principal components.\n",
    "\n",
    "\n",
    "\n",
    "Cosine similarity\n",
    "\n",
    "No they almost dont change.\n",
    "\n",
    "\n",
    "$\\dots$"
   ]
  },
  {
   "cell_type": "code",
   "execution_count": 24,
   "metadata": {},
   "outputs": [
    {
     "name": "stdout",
     "output_type": "stream",
     "text": [
      "PCA expects 100 dimensions and transforms to 2 components\n"
     ]
    }
   ],
   "source": [
    "print(f\"PCA expects {pca_word_vec.n_features_in_} dimensions and transforms to {pca_word_vec.n_components_} components\")"
   ]
  },
  {
   "cell_type": "code",
   "execution_count": 25,
   "metadata": {},
   "outputs": [],
   "source": [
    "def get_vector_transform(word, model, pca, n=2):\n",
    "    word_vec = model[word]\n",
    "    word_vec = word_vec.reshape(1, -1)\n",
    "    transformed_vec = pca.transform(word_vec)[:, :n]  # Select the top n components\n",
    "    return transformed_vec.flatten()  # Return the flattened vector"
   ]
  },
  {
   "cell_type": "code",
   "execution_count": 26,
   "metadata": {},
   "outputs": [
    {
     "name": "stdout",
     "output_type": "stream",
     "text": [
      "Explained variance ratio: [0.7332802  0.23953347]\n",
      "Cumulative explained variance: [0.7332802  0.97281367]\n"
     ]
    }
   ],
   "source": [
    "print(\"Explained variance ratio:\", pca_word_vec.explained_variance_ratio_)\n",
    "print(\"Cumulative explained variance:\", np.cumsum(pca_word_vec.explained_variance_ratio_))"
   ]
  },
  {
   "cell_type": "code",
   "execution_count": null,
   "metadata": {},
   "outputs": [
    {
     "name": "stdout",
     "output_type": "stream",
     "text": [
      "company-software: 0.2104349285364151\n",
      "company-business: 0.2916577458381653\n",
      "company-world: -0.8140895962715149\n",
      "\n",
      "business-software: -0.8737291097640991\n",
      "business-business: 1.0\n",
      "business-world: 0.3180547058582306\n",
      "\n",
      "cat-software: -0.34435489773750305\n",
      "cat-business: -0.1557905077934265\n",
      "cat-world: 0.8869464993476868\n",
      "\n",
      "software-software: 0.9999998807907104\n",
      "software-business: -0.8737291097640991\n",
      "software-world: -0.7390480041503906\n",
      "\n",
      "microsoft-software: 0.8170966506004333\n",
      "microsoft-business: -0.4335038959980011\n",
      "microsoft-world: -0.9922348856925964\n",
      "\n",
      "mouse-software: -0.7266018986701965\n",
      "mouse-business: 0.30065926909446716\n",
      "mouse-world: 0.9998326301574707\n",
      "\n"
     ]
    }
   ],
   "source": [
    "to_compare = ['software', 'business', 'world'] # Three words, that should be labeled as three different things\n",
    "for word in words:\n",
    "    for comparison in to_compare:\n",
    "        distance = word_similarity(\n",
    "                                    vec1=get_vector_transform(word, current_model, pca_word_vec, n=n),\n",
    "                                    vec2=get_vector_transform(comparison, current_model, pca_word_vec,n=n),\n",
    "                                    glove=None\n",
    "                                    )\n",
    "        print(f\"{word}-{comparison}: {distance}\")\n",
    "    print()"
   ]
  },
  {
   "cell_type": "markdown",
   "metadata": {
    "collapsed": false,
    "pycharm": {
     "name": "#%% md\n"
    }
   },
   "source": [
    "## Exercise 5 Screwing around with fasttext models\n",
    "\n",
    "*A good thing if we want to use fasttext on a character level, is that it will be able to understand spelling errors. We're going to test this now by replacing a bunch of letters in our test set randomly with other words and once more test the accuracy of the word-wise fasttext vs the character-wise fasttext*"
   ]
  },
  {
   "cell_type": "code",
   "execution_count": 28,
   "metadata": {
    "collapsed": false,
    "pycharm": {
     "name": "#%%\n"
    }
   },
   "outputs": [],
   "source": [
    "def dyslexibot(test_set: list, p=0.05, extra_scuffed=False):\n",
    "    \"\"\"\n",
    "    tHe AlMiGhTy dyslexibot(tm) replaces letters with probability p\n",
    "    extra_scuffed does what it says: it makes the replacements even harder to guess\n",
    "    This function is pretty ineffective, if you want to spruce it up, you are welcome to do so\n",
    "    \"\"\"\n",
    "\n",
    "    if extra_scuffed:\n",
    "        test_set_letters = np.array(list(set(''.join(test_texts)))) # Can replace with all letters currently in test set\n",
    "    else:\n",
    "        test_set_letters = np.array(list(string.ascii_lowercase)) # Can only replace with lowercase letters\n",
    "\n",
    "    new_test_set = [text.split(' ') for text in test_set.copy()]\n",
    "\n",
    "    print(\"Replacing text\")\n",
    "    for i, text in tqdm(enumerate(new_test_set)):\n",
    "        for r, word in enumerate(text):\n",
    "            word = list(word)\n",
    "            for t, letter in enumerate(word):\n",
    "                rand = random.uniform(0, 1)\n",
    "\n",
    "                if extra_scuffed and rand < p: # We replace even spaces!\n",
    "                    word[t] = np.random.choice(test_set_letters)\n",
    "                    #new_test_set[i][r] = np.random.choice(test_set_letters)\n",
    "\n",
    "                elif letter != ' ' and rand < p:\n",
    "                    word[t] = np.random.choice(test_set_letters)\n",
    "                    #new_test_set[i][r] = np.random.choice(test_set_letters)\n",
    "\n",
    "            text[r] = ''.join(word)\n",
    "        new_test_set[i] = ' '.join(text)\n",
    "    return np.array(new_test_set)"
   ]
  },
  {
   "cell_type": "code",
   "execution_count": 29,
   "metadata": {},
   "outputs": [
    {
     "name": "stdout",
     "output_type": "stream",
     "text": [
      "Replacing text\n"
     ]
    },
    {
     "name": "stderr",
     "output_type": "stream",
     "text": [
      "1it [00:00, ?it/s]"
     ]
    },
    {
     "name": "stdout",
     "output_type": "stream",
     "text": [
      "['have you heard of ths tragedy of darth plagueis the wise']\n"
     ]
    },
    {
     "name": "stderr",
     "output_type": "stream",
     "text": [
      "\n"
     ]
    }
   ],
   "source": [
    "# Showing that dyslexibot works\n",
    "text = [\"have you heard of the tragedy of darth plagueis the wise\"]\n",
    "print(dyslexibot(text, p=0.10, extra_scuffed=False))"
   ]
  },
  {
   "cell_type": "markdown",
   "metadata": {},
   "source": [
    "### 5.1 Dyslexibot and fasttext\n",
    "\n",
    "**1. Test both the fasttext_word_model and the fasttext_char_model on text generated by dyslexibot. Change the $p$ value and perhaps the $\\text{extra scuffed}$ option. Try to make the fasttext_word_model as bad as possible while the fasttext_char_model still keeps somewhat good performance. Comment on what you did to achieve this.**\n",
    "\n",
    "As the $p$ value increases, the performance of both models worsens. This is because the $p$ value represents the probability of inserted noise in the text. The character-wise model performs way better here, due to its ability to discern character-wise patterns, while the word-wise is unable to find a decent pattern. The extra scuffed option further decreases performance by replacing characters with any other character in the test set, while disabling it only replaces with lowercase letters, which simulates common misspellings. You can imagine this would only further mess up the word-wise model, but also decrease character-wise performance by a little.\n",
    "\n",
    "The performance for the character-wise model could still be further improved by training the fasttext model on noisy data generated from the dyslexibot, while the word-wise model still wouldn't gain as much from this, since the words are dyslexified at random.\n",
    "\n",
    "In conclusion, the character-wise model is highly unaffected by misspellings compared to the word-wise model, but it also took 10 times as long to test!"
   ]
  },
  {
   "cell_type": "code",
   "execution_count": 30,
   "metadata": {},
   "outputs": [
    {
     "name": "stdout",
     "output_type": "stream",
     "text": [
      "Replacing text\n"
     ]
    },
    {
     "name": "stderr",
     "output_type": "stream",
     "text": [
      "7600it [00:04, 1798.81it/s]\n"
     ]
    }
   ],
   "source": [
    "dyslexitext = dyslexibot(test_texts, p=0.20, extra_scuffed=False)"
   ]
  },
  {
   "cell_type": "code",
   "execution_count": 31,
   "metadata": {},
   "outputs": [
    {
     "name": "stdout",
     "output_type": "stream",
     "text": [
      "Replacing text\n"
     ]
    },
    {
     "name": "stderr",
     "output_type": "stream",
     "text": [
      "7600it [00:02, 3267.65it/s]\n"
     ]
    },
    {
     "name": "stdout",
     "output_type": "stream",
     "text": [
      "Replacing text\n"
     ]
    },
    {
     "name": "stderr",
     "output_type": "stream",
     "text": [
      "7600it [00:04, 1774.96it/s]\n"
     ]
    },
    {
     "ename": "KeyboardInterrupt",
     "evalue": "",
     "output_type": "error",
     "traceback": [
      "\u001b[1;31m---------------------------------------------------------------------------\u001b[0m",
      "\u001b[1;31mKeyboardInterrupt\u001b[0m                         Traceback (most recent call last)",
      "Cell \u001b[1;32mIn[31], line 18\u001b[0m\n\u001b[0;32m     16\u001b[0m \u001b[38;5;66;03m# Test the word-level fastText model\u001b[39;00m\n\u001b[0;32m     17\u001b[0m s1 \u001b[38;5;241m=\u001b[39m time\u001b[38;5;241m.\u001b[39mtime()\n\u001b[1;32m---> 18\u001b[0m word_accs, word_total_acc \u001b[38;5;241m=\u001b[39m \u001b[43mtest_fasttext_model\u001b[49m\u001b[43m(\u001b[49m\u001b[43mfasttext_word_model\u001b[49m\u001b[43m,\u001b[49m\u001b[43m \u001b[49m\u001b[43mdyslexitext\u001b[49m\u001b[43m,\u001b[49m\u001b[43m \u001b[49m\u001b[43mtest_labels\u001b[49m\u001b[43m,\u001b[49m\u001b[43m \u001b[49m\u001b[43mag_news_labels\u001b[49m\u001b[43m)\u001b[49m\n\u001b[0;32m     19\u001b[0m e1 \u001b[38;5;241m=\u001b[39m time\u001b[38;5;241m.\u001b[39mtime()\n\u001b[0;32m     21\u001b[0m \u001b[38;5;66;03m# Test the character-level fastText model\u001b[39;00m\n",
      "Cell \u001b[1;32mIn[11], line 25\u001b[0m, in \u001b[0;36mtest_fasttext_model\u001b[1;34m(fasttext_model, test_texts, test_labels, label_names)\u001b[0m\n\u001b[0;32m     23\u001b[0m \u001b[38;5;28;01mfor\u001b[39;00m text, label, name \u001b[38;5;129;01min\u001b[39;00m \u001b[38;5;28mzip\u001b[39m(test_texts, test_labels, test_labels_n):\n\u001b[0;32m     24\u001b[0m     prediction \u001b[38;5;241m=\u001b[39m test_prediction(fasttext_model, text, name, return_bool\u001b[38;5;241m=\u001b[39m\u001b[38;5;28;01mTrue\u001b[39;00m)\n\u001b[1;32m---> 25\u001b[0m     preds[label]\u001b[38;5;241m.\u001b[39mappend(prediction)\n\u001b[0;32m     27\u001b[0m \u001b[38;5;66;03m# Normalize the values in the dictionary by the total number of each label in the test set\u001b[39;00m\n\u001b[0;32m     28\u001b[0m normalized_preds \u001b[38;5;241m=\u001b[39m {k: np\u001b[38;5;241m.\u001b[39mmean(v) \u001b[38;5;28;01mif\u001b[39;00m v \u001b[38;5;28;01melse\u001b[39;00m \u001b[38;5;28;01mNone\u001b[39;00m \u001b[38;5;28;01mfor\u001b[39;00m k,v \u001b[38;5;129;01min\u001b[39;00m preds\u001b[38;5;241m.\u001b[39mitems()}    \n",
      "\u001b[1;31mKeyboardInterrupt\u001b[0m: "
     ]
    }
   ],
   "source": [
    "# Define the probabilities and extra_scuffed options to test\n",
    "p_values = [0.1, 0.2, 0.3, 0.4, 0.5, 0.6, 0.7, 0.8, 0.9, 1.0]\n",
    "extra_scuffed_options = [False, True]\n",
    "\n",
    "# Initialize lists to store results\n",
    "results = []\n",
    "\n",
    "word_time = []\n",
    "char_time = []\n",
    "\n",
    "for extra_scuffed in extra_scuffed_options:\n",
    "    for p in p_values:\n",
    "        # Generate noisy test data\n",
    "        dyslexitext = dyslexibot(test_texts, p=p, extra_scuffed=extra_scuffed)\n",
    "        \n",
    "        # Test the word-level fastText model\n",
    "        s1 = time.time()\n",
    "        word_accs, word_total_acc = test_fasttext_model(fasttext_word_model, dyslexitext, test_labels, ag_news_labels)\n",
    "        e1 = time.time()\n",
    "\n",
    "        # Test the character-level fastText model\n",
    "        s2 = time.time()\n",
    "        char_accs, char_total_acc = test_fasttext_model(fasttext_char_model, dyslexitext, test_labels, ag_news_labels)\n",
    "        e2 = time.time()\n",
    "\n",
    "        word_time.append(e1 - s1)\n",
    "        char_time.append(e2 - s2)\n",
    "\n",
    "        # Save results for dataframe\n",
    "        results.append({\n",
    "            'Extra Scuffed': extra_scuffed,\n",
    "            'p Value': p,\n",
    "            'Word Model Accuracy': word_total_acc,\n",
    "            'Char Model Accuracy': char_total_acc\n",
    "        })\n",
    "\n",
    "# Print time difference\n",
    "print(f\"Word model testing time: {np.sum(word_time)}\")\n",
    "print(f\"Char model testing time: {np.sum(char_time)}\")\n",
    "\n",
    "# Create a DataFrame from the results\n",
    "df_results = pd.DataFrame(results)"
   ]
  },
  {
   "cell_type": "markdown",
   "metadata": {},
   "source": [
    "We will plot the accuracy vs probability of character replacement, for both scuffed and not scuffed:"
   ]
  },
  {
   "cell_type": "code",
   "execution_count": null,
   "metadata": {},
   "outputs": [
    {
     "data": {
      "image/png": "[encoded data removed]",
      "text/plain": [
       "<Figure size 1200x800 with 1 Axes>"
      ]
     },
     "metadata": {},
     "output_type": "display_data"
    }
   ],
   "source": [
    "import matplotlib.pyplot as plt\n",
    "\n",
    "plt.figure(figsize=(12, 8))\n",
    "\n",
    "# Plot for extra_scuffed = False\n",
    "df_not_scuffed = df_results[df_results['Extra Scuffed'] == False]\n",
    "plt.plot(df_not_scuffed['p Value'], df_not_scuffed['Word Model Accuracy'],\n",
    "         marker='o', label='Word Model (Not Scuffed)')\n",
    "plt.plot(df_not_scuffed['p Value'], df_not_scuffed['Char Model Accuracy'],\n",
    "         marker='s', label='Char Model (Not Scuffed)')\n",
    "\n",
    "# Plot for extra_scuffed = True\n",
    "df_scuffed = df_results[df_results['Extra Scuffed'] == True]\n",
    "plt.plot(df_scuffed['p Value'], df_scuffed['Word Model Accuracy'],\n",
    "         marker='o', linestyle='--', label='Word Model (Scuffed)')\n",
    "plt.plot(df_scuffed['p Value'], df_scuffed['Char Model Accuracy'],\n",
    "         marker='s', linestyle='--', label='Char Model (Scuffed)')\n",
    "\n",
    "plt.xlabel('Probability of Character Replacement (p)')\n",
    "plt.ylabel('Accuracy')\n",
    "plt.title('Model Performance with Varying Noise Levels')\n",
    "plt.legend()\n",
    "plt.grid(True)\n",
    "plt.show()\n"
   ]
  },
  {
   "cell_type": "markdown",
   "metadata": {},
   "source": [
    "### 5.2 Custom text classification\n",
    "\n",
    "**1. Finally, to show the robustness of fasttext (and for fun), you are to make your own text and try to let fasttext classify this as one of the four models. Rememeber that the original dataset used texts of around 240 words, so you can either experiment with texts shorter or longer than this and see whether the accuracy is significantly different.**\n",
    "\n",
    "**As an extra challenge, you can try to create a text which is as close to the model's decision boundary as possible, IE. one that is as close as possible to being classified as either two or more of the classes**"
   ]
  },
  {
   "cell_type": "markdown",
   "metadata": {},
   "source": [
    "We generate 20 different texts with varying topics using ChatGPT's o1-preview model, the first 5 is below 240 words, the next 5 is exactly 240 words (cut off, if there was generated more than 240), the next 5 having above 240 words, and for the extra challenge, the last 5 having exactly 240 words but each with two mixed topics. For the prediction of mixed topics, we just check if it has either one correct. Of course, it is expected that this accuracy is equivalent to that of exactly 240 words, since we expect either one to be correct at the same rate as \"exactly 240 words\".\n",
    "\n",
    "We used the following prompts:\n",
    "\n",
    "\"Generate 15 different texts with one of the four possible categories: World, Sports, Business, Sci/Tec. 5 of the texts should be below 240 words, 5 of the texts should be exactly 240 words and the last 5 should be above.\"\n",
    "\n",
    "and\n",
    "\n",
    "\"Now generate 5 more texts with 240 words that each have 2 different topics in one text. E.g. first text has World and Sports, the second text has Sci/Tec and Business, etc.\""
   ]
  },
  {
   "cell_type": "code",
   "execution_count": null,
   "metadata": {},
   "outputs": [
    {
     "name": "stdout",
     "output_type": "stream",
     "text": [
      "Classified as: Sci/Tec with certainty: 0.7256988883018494\n",
      "Amount of words:  138\n",
      "\n",
      "Classified as: Sports with certainty: 0.9796250462532043\n",
      "Amount of words:  136\n",
      "\n",
      "Classified as: Sci/Tec with certainty: 0.513234555721283\n",
      "Amount of words:  131\n",
      "\n",
      "Classified as: Sci/Tec with certainty: 0.9150370359420776\n",
      "Amount of words:  127\n",
      "\n",
      "Classified as: World with certainty: 0.7323691248893738\n",
      "Amount of words:  112\n",
      "\n",
      "Classified as: Sports with certainty: 0.6876688599586487\n",
      "Amount of words:  240\n",
      "\n",
      "Classified as: Business with certainty: 0.6291986107826233\n",
      "Amount of words:  240\n",
      "\n",
      "Classified as: Sci/Tec with certainty: 0.9390455484390259\n",
      "Amount of words:  240\n",
      "\n",
      "Classified as: Business with certainty: 0.7856040596961975\n",
      "Amount of words:  240\n",
      "\n",
      "Classified as: Sports with certainty: 0.8405444622039795\n",
      "Amount of words:  240\n",
      "\n",
      "Classified as: Sci/Tec with certainty: 0.9281404614448547\n",
      "Amount of words:  343\n",
      "\n",
      "Classified as: Sci/Tec with certainty: 0.718658447265625\n",
      "Amount of words:  381\n",
      "\n",
      "Classified as: Sci/Tec with certainty: 0.574350893497467\n",
      "Amount of words:  435\n",
      "\n",
      "Classified as: Sci/Tec with certainty: 0.6227455139160156\n",
      "Amount of words:  454\n",
      "\n",
      "Classified as: Sci/Tec with certainty: 0.46816638112068176\n",
      "Amount of words:  456\n",
      "\n",
      "Classified as: World with certainty: 0.4112235903739929\n",
      "Amount of words:  240\n",
      "\n",
      "Classified as: Sci/Tec with certainty: 0.832381010055542\n",
      "Amount of words:  240\n",
      "\n",
      "Classified as: Sci/Tec with certainty: 0.7573192715644836\n",
      "Amount of words:  240\n",
      "\n",
      "Classified as: Sci/Tec with certainty: 0.8627687096595764\n",
      "Amount of words:  240\n",
      "\n",
      "Classified as: Sci/Tec with certainty: 0.7464171051979065\n",
      "Amount of words:  240\n",
      "\n",
      "Accuracy for texts below 240 words: 0.6\n",
      "Accuracy for texts with 240 words: 0.8\n",
      "Accuracy for texts above 240 words: 0.4\n",
      "Accuracy for mixed texts: 0.8\n"
     ]
    }
   ],
   "source": [
    "texts = [\n",
    "\"In a historic gathering, world leaders assembled today for the annual Climate Summit to address the escalating environmental crisis. Representatives from over 100 countries discussed strategies to reduce greenhouse gas emissions and transition to renewable energy sources. Key topics included implementing carbon pricing, investing in sustainable infrastructure, and supporting developing nations affected by climate change. Several nations pledged to achieve net-zero emissions by 2050, with some aiming for even earlier targets. The summit emphasized the importance of international cooperation and technological innovation in combating climate change. Activists and experts stressed that immediate action is necessary to prevent irreversible damage to the planet. While the commitments were praised, critics argued that the measures are insufficient and lack enforceability. The summit concluded with a call to action, urging all countries to accelerate their efforts in addressing the global environmental challenge.\",\n",
    "\n",
    "\"In a stunning upset, the underdog Riverside Tigers clinched the National Basketball Championship last night, defeating the heavily favored Metro City Eagles. The game kept fans on the edge of their seats as the Tigers overcame a significant halftime deficit. Star player Alex Ramirez led the charge with 30 points and 12 rebounds, earning the Most Valuable Player award. Coach Sandra Lee credited the victory to the team's relentless spirit and hard work throughout the season. We believed in ourselves when no one else did, she remarked during the post-game interview. The Tigers' win marks their first national title in school history. The victory parade is scheduled for next week, with the entire community expected to celebrate the team's remarkable achievement. Analysts are already calling this game one of the most memorable championships in recent years.\",\n",
    "\n",
    "\"In a move that has shaken the tech industry, GlobalTech Corporation announced its acquisition of startup InnovateX for $2 billion. InnovateX, known for its cutting-edge artificial intelligence solutions, will bolster GlobalTech's portfolio in the rapidly growing AI market. The deal is expected to close by the end of the fiscal quarter, pending regulatory approval. GlobalTech's CEO, Maria Thompson, stated that the acquisition aligns with the company's strategic vision to lead in AI development. Combining our resources with InnovateX's innovative technology will accelerate our ability to deliver transformative products to our customers, she said. Investors reacted positively to the news, with GlobalTech's stock price rising by 5% in after-hours trading. Industry experts believe this acquisition could spark a wave of consolidation in the tech sector as companies vie for dominance in AI.\",\n",
    "\n",
    "\"Scientists at the National Research Laboratory have announced a significant breakthrough in quantum computing. The research team successfully demonstrated a stable quantum processor capable of performing complex calculations at unprecedented speeds. This development could revolutionize fields such as cryptography, materials science, and drug discovery. Dr. Elena Martinez, the lead researcher, explained that the new processor overcomes previous limitations related to quantum decoherence. Our approach maintains quantum states longer, allowing for more reliable computation, she said. The findings were published in the Journal of Advanced Computing. Experts are hailing this as a major step forward, though practical applications may still be years away. Further research is needed to scale the technology for commercial use. Nevertheless, the breakthrough represents a promising advancement in the quest for powerful quantum computers.\",\n",
    "\n",
    "\"After decades of conflict, the governments of Landia and Riverton have signed a historic peace agreement aimed at ending hostilities and fostering cooperation. The treaty, brokered by international mediators, includes provisions for border demarcation, resource sharing, and the return of displaced persons. World leaders praised the agreement as a significant step toward stability in the region. United Nations Secretary-General António Guterres commended both sides for their willingness to negotiate and compromise. This is a beacon of hope for conflict resolution worldwide, he stated. The agreement faces challenges ahead, including implementation and addressing deep-seated mistrust between the populations. However, optimism remains high as both nations prepare to open embassies and establish diplomatic relations.\",\n",
    "\n",
    "\"In an electrifying performance at the International Swimming Championships, 23-year-old phenom Michael Anders shattered the world record in the men's 100-meter freestyle. Clocking in at an astonishing 46.80 seconds, Anders surpassed the previous record of 46.91 seconds set by rival swimmer James Collins two years ago. The stadium erupted as Anders touched the wall, realizing he had made history. It's a dream come true, he exclaimed during the post-race interview. I've been training for this moment my entire life. Anders' victory is the culmination of years of dedication and rigorous training under coach Sarah Thompson. Known for her innovative techniques, Thompson has been instrumental in refining Anders' speed and endurance. Michael's work ethic is unparalleled, she noted. He deserves every bit of this success. The race was highly anticipated, featuring a lineup of the world's top swimmers. Anders took an early lead, maintaining a flawless stroke and incredible pace throughout the race. Collins finished a close second, congratulating Anders on his achievement. Records are meant to be broken, Collins remarked graciously. Analysts predict that Anders' record may stand for years, given the margin by which he surpassed the previous time. The swimming community is abuzz with speculation about his potential at the upcoming Olympic Games. Fans worldwide have taken to social media to celebrate the historic moment. Anders' hometown is planning a parade in his honor, recognizing the local hero's remarkable accomplishment. As the sport of swimming reaches new heights\",\n",
    "\n",
    "\"In a significant blow to the traditional retail sector, long-standing department store chain GrandMart has filed for Chapter 11 bankruptcy protection. The company cited declining sales, mounting debt, and the relentless rise of e-commerce as primary factors contributing to its financial woes. Founded over 80 years ago, GrandMart was once a staple in shopping malls across the nation, offering a wide array of products from clothing to home goods. However, shifting consumer preferences toward online shopping have eroded its customer base. The COVID-19 pandemic exacerbated the situation, with prolonged store closures and reduced foot traffic. CEO Linda Roberts announced the decision in a press release. This was an incredibly difficult choice, but necessary to restructure our operations and emerge stronger, she stated. The company plans to close 150 underperforming stores while seeking buyers for remaining assets. Industry experts view GrandMart's bankruptcy as indicative of broader challenges facing brick-and-mortar retailers. The retail landscape is evolving rapidly, commented analyst Mark Stevens. Companies must adapt or risk obsolescence. Employees and suppliers are bracing for the impact. The company employs over 20,000 workers, many of whom face uncertain futures. Unions are advocating for fair severance packages and job placement assistance. Meanwhile, competitors in the e-commerce space continue to thrive. Online giants report record profits, capitalizing on the digital shopping trend. Some suggest that GrandMart's failure to invest adequately in online platforms contributed to its downfall. The bankruptcy proceedings will unfold over the coming months\",\n",
    "\n",
    "\"Researchers at the University of GreenTech have unveiled a groundbreaking method to accelerate plastic degradation, potentially revolutionizing waste management and environmental conservation. The team engineered a strain of bacteria capable of breaking down polyethylene terephthalate (PET), a common plastic, within weeks rather than centuries. Led by Dr. Emily Hart, the scientists modified the enzyme PETase, enhancing its ability to digest plastic molecules more efficiently. Our enhanced enzyme can reduce PET plastics to their basic components in a fraction of the time, Dr. Hart explained. This could be a game-changer in addressing plastic pollution. Laboratory tests demonstrated that the engineered bacteria decomposed PET samples by 90% within 60 days. Traditional plastics can persist in the environment for hundreds of years, accumulating in landfills and oceans. Environmentalists are cautiously optimistic. If scalable, this technology could significantly mitigate plastic waste, noted Lisa Perez of the Environmental Protection Agency. However, she emphasized the importance of assessing ecological impacts before widespread application. The team is exploring ways to implement the technology on an industrial scale. Potential applications include treating plastic waste at recycling facilities or contaminated sites. Partnerships with waste management companies are being considered to pilot large-scale operations. Critics urge careful consideration of releasing genetically modified organisms into the environment. We must ensure that such interventions do not create unforeseen ecological problems, warned bioethicist Dr. Alan Monroe. Funding for the research was provided by government grants and private environmental foundations. The findings have been\",\n",
    "\n",
    "\"Leaders from ten nations signed a landmark trade agreement today, establishing the Pacific Regional Economic Partnership (PREP), aimed at enhancing economic integration and reducing trade barriers among member countries. The pact is expected to increase trade flows, promote investment, and foster economic growth across the region. The signing ceremony took place in Singapore, with heads of state and trade ministers in attendance. This agreement represents a new era of cooperation and shared prosperity, declared Singapore's Prime Minister Lee Tan. By working together, we can achieve greater economic resilience and opportunity for our peoples. Key provisions of the agreement include the elimination of tariffs on 90% of goods, the harmonization of regulations, and the facilitation of services trade. The deal also encompasses commitments to environmental standards and labor rights. Economists predict that the PREP could boost the collective GDP of member nations by $500 billion over the next decade. The reduction of trade barriers will enhance competitiveness and innovation, commented economist Dr. Maya Patel. Businesses will have access to larger markets, benefiting consumers through lower prices and greater choice. However, the agreement faces criticism from some quarters. Labor unions express concerns about potential job losses in certain sectors due to increased competition. We must ensure that workers are protected and that the benefits of trade are broadly shared, stated union leader Carlos Mendes. Environmental groups caution that increased industrial activity could exacerbate ecological challenges unless properly managed. The agreement includes clauses\",\n",
    "\n",
    "\"In a dramatic conclusion to the Open Championship, 19-year-old tennis prodigy Sofia Martinez clinched her first Grand Slam title, defeating world number one Serena Williams in a three-set thriller. The match, lasting over two hours, showcased Martinez's exceptional skill and composure under pressure. Martinez, unseeded in the tournament, defied expectations throughout, eliminating several top-ranked players en route to the final. Her victory over Williams, a seasoned champion with 23 Grand Slam titles, marks one of the most significant upsets in tennis history. I'm overwhelmed with joy, Martinez expressed during the trophy presentation. Facing my idol and winning is beyond anything I imagined. The first set saw Williams dominate with powerful serves and forehands, securing it 6-3. Undeterred, Martinez adjusted her strategy, employing tactical placements and agile movements to take the second set 7-5. The decisive third set was a nail-biter, with Martinez saving match points before sealing the win at 7-6 in a tiebreak. Commentators praised Martinez's performance. Her maturity and tactical intelligence are remarkable for her age, noted former champion Anna Kournikova. Williams graciously acknowledged her opponent. Sofia played exceptionally well. She has a bright future ahead, she said. Martinez's triumph propels her into the global spotlight and significantly boosts her ranking. Sponsors and media outlets are eager to engage with the new star, heralding a potential shift in the sport's landscape. Back home, celebrations erupted as fans gathered to watch the historic match. The government announced plans to\",\n",
    "\n",
    "\"Astronomers have announced the discovery of an Earth-sized exoplanet located within the habitable zone of a nearby star system, sparking excitement about the possibility of finding extraterrestrial life. The planet, designated Kepler-1649c, orbits a red dwarf star approximately 300 light-years from Earth. Using data from the Kepler Space Telescope, the research team identified the planet through transit observations, noting that it receives about 75% of the light Earth gets from the Sun. This positions Kepler-1649c within the so-called Goldilocks Zone, where conditions could allow for liquid water on its surface—a key ingredient for life as we know it. Dr. Laura Simmons, the lead astronomer, emphasized the significance of the find. This is one of the most promising exoplanets we've discovered in terms of potential habitability, she said. Its size, estimated to be similar to Earth's, and its temperate orbit make it an exciting target for further study. The discovery has reinvigorated discussions about the prevalence of potentially life-supporting planets in our galaxy. Scientists estimate that there could be billions of such planets orbiting red dwarf stars, which are the most common type of star in the Milky Way. However, challenges remain in determining the planet's actual conditions. Red dwarf stars can emit intense solar flares that might strip away a planet's atmosphere or make the surface inhospitable. Additional observations are needed to assess the planet's atmosphere, composition, and potential magnetic field. Future missions, such as the James Webb Space Telescope and the planned LUVOIR mission, could provide the necessary tools to study exoplanets like Kepler-1649c in greater detail. Spectroscopic analysis may reveal atmospheric components such as oxygen, methane, and other biomarkers indicative of life. The discovery also raises philosophical and ethical questions about humanity's place in the universe and the implications of finding life elsewhere. If life is detected, it could profoundly impact science, religion, and society at large. As technology advances, the search for extraterrestrial life continues to be a unifying endeavor that transcends national boundaries. International collaboration will be essential in exploring these distant worlds and unraveling the mysteries they hold.\",\n",
    "\n",
    "\"The global retail industry is undergoing a significant transformation as e-commerce continues to surge, reshaping consumer behavior and market dynamics in the aftermath of the COVID-19 pandemic. The shift toward online shopping, accelerated by lockdowns and social distancing measures, shows no signs of slowing down even as economies reopen. Major e-commerce platforms report record revenues, with some experiencing growth rates exceeding 50% year-over-year. This trend is not limited to established markets; emerging economies are also witnessing rapid adoption of digital commerce, facilitated by increasing internet penetration and mobile device usage. Retail analysts attribute this sustained growth to several factors. Consumers have become accustomed to the convenience of online shopping, which offers a broader selection of products, competitive pricing, and home delivery. Additionally, advancements in logistics and supply chain management have reduced delivery times and improved customer satisfaction. Brick-and-mortar retailers are adapting by integrating online channels into their business models, a strategy known as omnichannel retailing. This approach aims to provide a seamless shopping experience across physical and digital platforms. Companies investing in technology and data analytics are better positioned to understand customer preferences and tailor their offerings accordingly. However, the e-commerce boom presents challenges. Small and medium-sized enterprises (SMEs) may struggle to compete with larger players due to limited resources and technological capabilities. Governments and industry organizations are encouraging SMEs to adopt digital tools, offering training programs and financial incentives. Cybersecurity and data privacy concerns are also at the forefront. The increase in online transactions has led to a rise in cyberattacks and fraud. Businesses must invest in robust security measures to protect consumer data and maintain trust. Moreover, the environmental impact of increased packaging and delivery logistics is under scrutiny. Sustainability initiatives, such as using recyclable materials and optimizing delivery routes to reduce emissions, are becoming essential components of corporate responsibility strategies. Looking ahead, experts predict that technologies like artificial intelligence, augmented reality, and blockchain will further revolutionize e-commerce. Personalized shopping experiences, virtual try-ons, and secure transactions are set to enhance customer engagement. The pandemic has undeniably accelerated the digital transformation of retail. Companies that adapt to these changes stand to thrive in the new landscape, while those resistant may face obsolescence. The ongoing evolution of e-commerce will continue to redefine how consumers interact with brands and make purchasing decisions.\",\n",
    "\n",
    "\"In a landmark shift towards sustainable energy, countries around the globe are rapidly adopting renewable energy sources to meet ambitious carbon neutrality goals set for the coming decades. The transition from fossil fuels to renewables like solar, wind, hydroelectric, and geothermal energy is being driven by international agreements, technological advancements, and growing public demand for action on climate change. The Paris Agreement, signed by nearly 200 nations, has been a catalyst for this transformation, with countries committing to limit global warming to well below 2 degrees Celsius above pre-industrial levels. To achieve these targets, governments are implementing policies and incentives that encourage investment in renewable energy infrastructure. China, the world's largest emitter of greenhouse gases, has pledged to reach peak carbon emissions by 2030 and achieve carbon neutrality by 2060. The country is investing heavily in solar and wind power, already leading in installed capacity. Similarly, the European Union has set an ambitious goal to become the first climate-neutral continent by 2050, with member states ramping up renewable energy production and phasing out coal. The United States has re-entered the Paris Agreement and is focusing on modernizing its energy grid, promoting electric vehicles, and supporting clean energy research. The Biden administration's infrastructure plan includes substantial funding for renewable energy projects and aims to decarbonize the power sector by 2035. Developing nations are also participating in the renewable revolution. India plans to install 450 gigawatts of renewable energy capacity by 2030, while African countries are exploring solar and wind projects to provide electricity to remote regions. Technological advancements have made renewables more cost-competitive with traditional energy sources. The cost of solar photovoltaic modules and wind turbines has decreased significantly, making them attractive options for new power generation. Energy storage solutions, like advanced batteries, are addressing the intermittency issues of renewables, enhancing grid stability. Despite progress, challenges remain. Transitioning to renewable energy requires substantial investment, grid modernization, and overcoming regulatory and market barriers. Energy-intensive industries and regions dependent on fossil fuels face economic and social hurdles. Ensuring a just transition for workers and communities affected by the shift is a critical concern. Climate activists stress that time is of the essence. While the acceleration of renewable energy adoption is promising, experts warn that current efforts may not be sufficient to prevent the most severe impacts of climate change. Calls for increased ambition and faster action are growing louder. The global commitment to renewable energy marks a significant step towards a sustainable future. As nations collaborate and innovate, the hope is that collective efforts will mitigate climate risks, promote economic growth, and improve the quality of life worldwide.\",\n",
    "\n",
    "\"The rapid advancement of artificial intelligence (AI) and autonomous systems is intensifying global debates over ethical considerations, regulation, and the societal impact of these technologies. As AI becomes increasingly integrated into various sectors—ranging from healthcare and finance to transportation and defense—concerns about privacy, bias, accountability, and job displacement are taking center stage. One of the primary ethical dilemmas revolves around decision-making processes in AI systems, particularly those that affect human lives. For instance, autonomous vehicles must be programmed to make split-second decisions in life-or-death scenarios, raising questions about moral responsibility and the programming of ethical frameworks into machines. In the healthcare sector, AI algorithms assist in diagnostics and treatment planning. While these tools offer enhanced efficiency and accuracy, they also pose risks if the underlying data sets are biased or unrepresentative, potentially leading to disparities in care. Data privacy is another significant concern. AI systems often require vast amounts of personal data to function effectively. High-profile data breaches and misuse scandals have eroded public trust, prompting calls for stricter regulations to protect individuals' information. Employment disruption due to automation is also at the forefront of the debate. While AI has the potential to create new job categories, it simultaneously threatens to displace workers in sectors like manufacturing, customer service, and transportation. Policymakers are grappling with how to manage this transition, considering solutions like retraining programs and social safety nets. International organizations and governments are beginning to address these challenges. The European Union has proposed comprehensive AI regulations focusing on transparency, accountability, and human oversight. The guidelines aim to balance innovation with fundamental rights, imposing stricter rules on high-risk applications. Industry leaders are also participating in shaping ethical standards. Tech companies have established internal ethics boards and are collaborating on initiatives like the Partnership on AI, which brings together academia, industry, and civil society to address AI's societal implications. However, critics argue that self-regulation is insufficient and that more robust, enforceable policies are needed. They emphasize the importance of inclusive dialogue involving diverse stakeholders, including marginalized communities often disproportionately affected by technological changes. Educational institutions are responding by incorporating ethics into computer science and engineering curricula, preparing future professionals to consider the broader impact of their work. The debate extends to AI in military applications, such as autonomous weapons systems, which some warn could lower the threshold for conflict and raise profound ethical questions about delegating life-and-death decisions to machines. As AI continues to evolve, the urgency to establish ethical guidelines and regulatory frameworks grows. Balancing innovation with societal values is a complex challenge that requires international cooperation, multidisciplinary approaches, and ongoing public engagement. The outcome of these debates will shape the trajectory of AI development and its role in society for years to come.\",\n",
    "\n",
    "\"The COVID-19 pandemic has precipitated an unprecedented global education crisis, with school closures and remote learning exposing and amplifying existing inequities in access to quality education. As nations grapple with the aftermath, experts warn of a lost generation unless urgent measures are taken to address learning gaps and invest in resilient education systems. According to UNESCO, over 1.6 billion students were affected by school closures at the height of the pandemic. While some countries managed to pivot to online learning, disparities in technology access left millions without formal education for extended periods. In low-income regions, lack of internet connectivity and devices hindered remote learning initiatives. The long-term consequences are profound. Studies indicate significant declines in literacy and numeracy skills, particularly among marginalized communities. The World Bank estimates that learning poverty—defined as the inability of a 10-year-old to read and understand a simple text—could increase from 53% to 63% in low- and middle-income countries. Girls are disproportionately affected, with heightened risks of dropout due to economic pressures, early marriage, and caregiving responsibilities. The Malala Fund projects that 20 million secondary school-aged girls may never return to classrooms. Teachers face challenges as well, adapting to new technologies without adequate training or support. The strain has led to concerns about teacher burnout and attrition, further destabilizing education systems. Governments and international organizations are mobilizing resources to mitigate the crisis. Initiatives include deploying low-tech solutions like radio and television lessons, distributing printed materials, and implementing community-based education programs. Financial constraints pose significant hurdles. The economic downturn has strained public budgets, leading to cuts in education spending at a time when investment is most needed. The United Nations is advocating for increased funding and debt relief measures to enable countries to prioritize education. Innovations in EdTech offer potential solutions. Partnerships between governments, NGOs, and tech companies are developing platforms tailored to diverse contexts. However, ensuring equitable access remains a challenge. Reopening schools safely is a priority, with protocols for hygiene, social distancing, and mental health support. Vaccine distribution inequities complicate efforts, as unvaccinated populations face higher risks of outbreaks, leading to potential reclosures. The crisis underscores the necessity of reimagining education systems to be more inclusive, flexible, and resilient. Emphasizing foundational skills, socio-emotional learning, and digital literacy is critical. Engaging parents and communities in the educational process enhances support structures for students. Global cooperation is essential. Sharing best practices, resources, and expertise can accelerate recovery and build stronger systems. The Sustainable Development Goal of ensuring inclusive and equitable quality education by 2030 hangs in the balance. Without concerted action, the educational setbacks could have lasting impacts on economic development, social cohesion, and global stability. Investing in education is not only a moral imperative but a strategic necessity for a sustainable future.\",\n",
    "\n",
    "\"The International Olympic Committee announced today that the upcoming Olympic Games will be held jointly in a historic collaboration between Greece and Turkey, marking a significant step towards improving relations between the two neighboring countries. The decision comes after years of diplomatic efforts to ease tensions over territorial disputes in the Aegean Sea. Both nations will share hosting duties, with events spread across cities in both countries, including Athens and Istanbul. Athletes from around the world have expressed excitement over the unique opportunity to compete in venues that bridge both European and Asian continents. This is more than just a sporting event; it's a symbol of unity and peace, stated IOC President Thomas Bach. The co-hosting arrangement is expected to boost tourism and economic activity in the region, with projections estimating an influx of over one million visitors. Security measures are being heightened to ensure the safety of participants and spectators, involving coordinated efforts between Greek and Turkish authorities. Human rights organizations are keeping a close watch to ensure that preparations respect local communities and environmental standards. The United Nations has praised the initiative, with Secretary-General António Guterres calling it a monumental step towards regional cooperation and harmony. However, some critics question the feasibility of managing logistics across two countries with complex political histories. There are concerns about potential bureaucratic hurdles and infrastructural challenges. In response, both governments have formed a joint committee to oversee planning and execution, emphasizing transparency\",\n",
    "\n",
    "\"Tech conglomerate NeuroTech Industries unveiled today its latest breakthrough in biotechnology: a neural interface device that allows seamless communication between the human brain and computers. Named SynapseLink, the device has the potential to revolutionize industries ranging from medicine to finance by enabling direct thought-to-action capabilities. Investors are buzzing, and the company's stock surged by 20% following the announcement. SynapseLink represents a quantum leap in human-computer interaction, stated CEO Dr. Elena Rodriguez during the product launch. The device operates by decoding neural signals and translating them into digital commands, effectively allowing users to control software and hardware with their minds. Potential applications include assisting individuals with disabilities, enhancing virtual reality experiences, and increasing productivity in professional settings. The business implications are vast. Companies are already exploring how SynapseLink can be integrated into their operations to streamline workflows and reduce reliance on traditional input devices like keyboards and mice. In healthcare, the technology could aid in neurorehabilitation, helping patients recover motor functions after strokes or injuries. The gaming industry is particularly excited, seeing opportunities to create more immersive experiences. However, the development raises ethical and regulatory concerns. Data privacy advocates warn about the potential misuse of sensitive neurological data. We're entering uncharted territory where thoughts could be recorded and possibly exploited, cautioned cybersecurity expert Laura Chen. NeuroTech Industries has pledged to implement robust security measures and comply with all regulatory standards. Government agencies are also taking note. Discussions are underway about establishing\",\n",
    "\n",
    "\"Global sports apparel giant AthletiCorp announced a landmark merger with innovative wearable tech company FitPulse in a deal valued at $5 billion. The strategic alliance aims to revolutionize the sports industry by integrating advanced technology into athletic wear, offering real-time performance analytics to both professional athletes and everyday fitness enthusiasts. This merger is a game-changer, proclaimed AthletiCorp CEO Marcus Lee. By combining our expertise in sports apparel with FitPulse's cutting-edge technology, we're poised to redefine how individuals interact with their fitness routines. The new line of smart clothing will feature embedded sensors that monitor biometrics such as heart rate, muscle activity, and hydration levels. Data collected will sync with a mobile app, providing personalized feedback and training recommendations. The business implications are significant. Analysts predict that the market for smart athletic wear could exceed $50 billion within the next five years. Investors reacted positively, with AthletiCorp's stock price increasing by 12% following the announcement. The merger positions the company to compete aggressively against rivals in both the sportswear and tech industries. Professional sports teams are already expressing interest. Contracts are being negotiated to supply entire leagues with the smart apparel, potentially enhancing player performance and reducing injuries through better monitoring. This technology could extend athletes' careers by preventing overexertion and optimizing training, noted sports scientist Dr. Karen Simmons. However, the integration of technology raises privacy concerns. Data security experts warn about the potential risks of sensitive health information being hacked\",\n",
    "\n",
    "\"In an unprecedented global initiative, scientists and policymakers from over 100 countries convened at the United Nations headquarters to launch the International Climate Technology Alliance. The alliance aims to combat climate change by fostering innovation in renewable energy, carbon capture, and sustainable agriculture. This is a critical moment for humanity, declared UN Secretary-General António Guterres. Through collaboration and technology, we can address the most pressing environmental challenges of our time. The alliance will function as a platform for sharing knowledge, resources, and technological advancements. Developed nations have pledged $50 billion to fund research and development projects in emerging economies, focusing on scalable solutions that can be implemented worldwide. Key initiatives include advancing solar and wind energy technologies, developing efficient energy storage systems, and exploring geoengineering possibilities. Scientists are particularly excited about the potential for collaborative research. Dr. Aisha Mbaye, a leading climatologist from Senegal, emphasized the importance of diverse perspectives. Climate change is a global issue requiring global input. By uniting, we can accelerate breakthroughs that might have taken decades individually. Technological innovation is at the heart of the alliance's strategy. Plans are underway to launch satellites equipped with advanced sensors to monitor environmental changes in real-time. This data will be accessible to all member countries, aiding in disaster preparedness and policy formulation. However, the initiative is not without challenges. Critics argue that technology alone cannot solve the climate crisis without significant policy changes and reductions in greenhouse gas emissions.\",\n",
    "\n",
    "\"The National Basketball Association is set to revolutionize the game by integrating artificial intelligence and virtual reality into its upcoming season. Partnering with tech firm VisionSports, the NBA plans to enhance both player performance and fan engagement through cutting-edge technology. We're entering a new era of sports entertainment, announced NBA Commissioner Adam Silver. This initiative will redefine how fans experience basketball and how players train and compete. Players will have access to AI-driven analytics that provide real-time feedback on their performance during games and practices. Wearable sensors will collect data on metrics such as speed, acceleration, and shot accuracy, allowing coaches to make instantaneous strategic adjustments. It's like having a personal analyst with you at all times, said star player LeBron James. This technology could extend careers and elevate the level of competition. For fans, the introduction of virtual reality promises an immersive experience like never before. VisionSports has developed VR headsets that allow viewers to watch games from the perspective of any player on the court or from exclusive courtside seats, all from the comfort of their homes. Interactive features enable fans to access player stats, switch viewing angles, and even participate in virtual halftime shows. The business implications are significant. The NBA expects to increase its global viewership and tap into new revenue streams through subscriptions to the enhanced VR experience. VisionSports stands to gain a substantial market share in the sports technology sector. Advertisers are also keen\"\n",
    "]\n",
    "\n",
    "# World, Sports, Business, Sci/Tec\n",
    "true_labels = [\"World\", \"Sports\", \"Business\", \"Sci/Tec\", \"World\", \"Sports\", \"Business\", \"Sci/Tec\", \"World\", \"Sports\", \"Sci/Tec\", \"Business\", \"World\", \"Sci/Tec\", \"World\", (\"World\", \"Sports\"), (\"Sci/Tec\", \"Business\"), (\"Business\", \"Sports\"), (\"World\", \"Sci/Tec\"), (\"Sports\", \"Sci/Tec\")]\n",
    "\n",
    "below = []\n",
    "exact = []\n",
    "above = []\n",
    "\n",
    "mixed = []\n",
    "\n",
    "for text, label in zip(texts, true_labels):\n",
    "    assert text != \"\", \"Come on, be creative\"\n",
    "\n",
    "    classif = fasttext_char_model.predict(text)\n",
    "    print(\"Classified as:\", classif[0][0][9:], \"with certainty:\", classif[1][0])\n",
    "    text_len = len(text.split())\n",
    "    print(\"Amount of words: \", text_len)\n",
    "    if text_len < 240:\n",
    "        if type(label) == tuple:\n",
    "            mixed.append(classif[0][0][9:] == label[0] or classif[0][0][9:] == label[1])\n",
    "        else:\n",
    "            below.append(classif[0][0][9:] == label)\n",
    "    elif text_len == 240:\n",
    "        if type(label) == tuple:\n",
    "            mixed.append(classif[0][0][9:] == label[0] or classif[0][0][9:] == label[1])\n",
    "        else:\n",
    "            exact.append(classif[0][0][9:] == label)\n",
    "    else:\n",
    "        if type(label) == tuple:\n",
    "            mixed.append(classif[0][0][9:] == label[0] or classif[0][0][9:] == label[1])\n",
    "        else:\n",
    "            above.append(classif[0][0][9:] == label)\n",
    "    print()\n",
    "\n",
    "print(\"Accuracy for texts below 240 words:\", sum(below)/len(below))\n",
    "print(\"Accuracy for texts with 240 words:\", sum(exact)/len(exact))\n",
    "print(\"Accuracy for texts above 240 words:\", sum(above)/len(above))\n",
    "print(\"Accuracy for mixed texts:\", sum(mixed)/len(mixed))"
   ]
  },
  {
   "cell_type": "code",
   "execution_count": null,
   "metadata": {},
   "outputs": [
    {
     "name": "stdout",
     "output_type": "stream",
     "text": [
      "Below 240: [False, True, False, True, True]\n",
      "Exactly 240: [True, True, True, False, True]\n",
      "Above 240: [True, False, False, True, False]\n",
      "Mixed topics (exactly 240): [True, True, False, True, True]\n"
     ]
    }
   ],
   "source": [
    "print(\"Below 240:\", below)\n",
    "print(\"Exactly 240:\", exact)\n",
    "print(\"Above 240:\", above)\n",
    "print(\"Mixed topics (exactly 240):\", mixed)"
   ]
  },
  {
   "cell_type": "markdown",
   "metadata": {},
   "source": [
    "The accuracy for texts with 240 words definitely has the best accuracy, and while texts below and above vary in their distance from 240, it is clear that their performance is worse, with below having the best of the two. The difference in accuracy between below and above could be explained by above having on average a distance of $173.8$ from $240$, and below having an average distance of $111.2$.\n",
    "\n",
    "We will test if they are significantly different. We cannot use any test with normality assumption due to our small sample size, and we will therefore use Fisher's Exact Test, which is appropriate for comparing proportions in small samples."
   ]
  },
  {
   "cell_type": "code",
   "execution_count": null,
   "metadata": {},
   "outputs": [
    {
     "ename": "ModuleNotFoundError",
     "evalue": "No module named 'statsmodels'",
     "output_type": "error",
     "traceback": [
      "\u001b[0;31m---------------------------------------------------------------------------\u001b[0m",
      "\u001b[0;31mModuleNotFoundError\u001b[0m                       Traceback (most recent call last)",
      "Cell \u001b[0;32mIn[37], line 3\u001b[0m\n\u001b[1;32m      1\u001b[0m \u001b[38;5;28;01mimport\u001b[39;00m \u001b[38;5;21;01mitertools\u001b[39;00m\n\u001b[1;32m      2\u001b[0m \u001b[38;5;28;01mfrom\u001b[39;00m \u001b[38;5;21;01mscipy\u001b[39;00m\u001b[38;5;21;01m.\u001b[39;00m\u001b[38;5;21;01mstats\u001b[39;00m \u001b[38;5;28;01mimport\u001b[39;00m fisher_exact\n\u001b[0;32m----> 3\u001b[0m \u001b[38;5;28;01mfrom\u001b[39;00m \u001b[38;5;21;01mstatsmodels\u001b[39;00m\u001b[38;5;21;01m.\u001b[39;00m\u001b[38;5;21;01mstats\u001b[39;00m\u001b[38;5;21;01m.\u001b[39;00m\u001b[38;5;21;01mmultitest\u001b[39;00m \u001b[38;5;28;01mimport\u001b[39;00m multipletests\n\u001b[1;32m      5\u001b[0m \u001b[38;5;66;03m# Function to perform Fisher's Exact Test between two groups\u001b[39;00m\n\u001b[1;32m      6\u001b[0m \u001b[38;5;28;01mdef\u001b[39;00m \u001b[38;5;21mperform_fishers_exact\u001b[39m(group1, group2, name1, name2):\n\u001b[1;32m      7\u001b[0m     \u001b[38;5;66;03m# Contingency table\u001b[39;00m\n",
      "\u001b[0;31mModuleNotFoundError\u001b[0m: No module named 'statsmodels'"
     ]
    }
   ],
   "source": [
    "import itertools\n",
    "from scipy.stats import fisher_exact\n",
    "from statsmodels.stats.multitest import multipletests\n",
    "\n",
    "# Function to perform Fisher's Exact Test between two groups\n",
    "def perform_fishers_exact(group1, group2, name1, name2):\n",
    "    # Contingency table\n",
    "    table = [\n",
    "        [sum(group1), len(group1) - sum(group1)],\n",
    "        [sum(group2), len(group2) - sum(group2)]\n",
    "    ]\n",
    "    # Perform Fisher's Exact Test\n",
    "    odds_ratio, p_value = fisher_exact(table, alternative='two-sided')\n",
    "    return {\n",
    "        'groups': (name1, name2),\n",
    "        'odds_ratio': odds_ratio,\n",
    "        'p_value': p_value\n",
    "    }\n",
    "\n",
    "# Prepare data for pairwise comparisons\n",
    "groups = {\n",
    "    'below': below,\n",
    "    'exact': exact,\n",
    "    'above': above,\n",
    "    'mixed': mixed\n",
    "}\n",
    "\n",
    "# Perform all pairwise comparisons\n",
    "results = []\n",
    "for (name1, group1), (name2, group2) in itertools.combinations(groups.items(), 2):\n",
    "    result = perform_fishers_exact(group1, group2, name1, name2)\n",
    "    results.append(result)\n",
    "\n",
    "# Extract p-values for multiple testing correction\n",
    "p_values = [res['p_value'] for res in results]\n",
    "\n",
    "# Apply Bonferroni correction\n",
    "reject, corrected_p_values, _, _ = multipletests(p_values, method='bonferroni')\n",
    "\n",
    "# Update results with corrected p-values\n",
    "for res, p_val, rej in zip(results, corrected_p_values, reject):\n",
    "    res['corrected_p_value'] = p_val\n",
    "    res['significant'] = rej\n",
    "\n",
    "# Print the results\n",
    "for res in results:\n",
    "    print(f\"Comparison between {res['groups'][0]} and {res['groups'][1]}:\")\n",
    "    print(f\"  Odds Ratio: {res['odds_ratio']}\")\n",
    "    print(f\"  P-Value: {res['p_value']}\")\n",
    "    print(f\"  Corrected P-Value: {res['corrected_p_value']}\")\n",
    "    print(f\"  Significant Difference: {'Yes' if res['significant'] else 'No'}\\n\")\n"
   ]
  },
  {
   "cell_type": "code",
   "execution_count": null,
   "metadata": {},
   "outputs": [
    {
     "name": "stdout",
     "output_type": "stream",
     "text": [
      "Fisher's Exact Test p-value: 0.5238095238095238\n"
     ]
    }
   ],
   "source": [
    "from scipy.stats import fisher_exact\n",
    "\n",
    "# Example contingency table for two groups\n",
    "# Group1: successes and failures\n",
    "# Group2: successes and failures\n",
    "table = [\n",
    "    [sum(group1), len(group1) - sum(group1)],\n",
    "    [sum(group2), len(group2) - sum(group2)]\n",
    "]\n",
    "\n",
    "odds_ratio, p_value = fisher_exact(table, alternative='two-sided')\n",
    "print(f\"Fisher's Exact Test p-value: {p_value}\")\n"
   ]
  },
  {
   "cell_type": "markdown",
   "metadata": {},
   "source": [
    "Our sample size is too small for each test of accuracy, so we cannot deny our null hypothesis of our pairwise accuracies being significantly different."
   ]
  },
  {
   "cell_type": "markdown",
   "metadata": {},
   "source": [
    "##  $\\star$ $\\star$ $\\star$ Exercise 6 Extremely optional task\n",
    "\n",
    "**1. It's quite a waste to have all those juicy principle components of the embedding matrices without using them in a classifier of some sort, right?**\n",
    "\n",
    "**Create a classifier to classify texts as one of the four labels, based on the projections of their words unto a number of the principle components of the embedding matrices. Compare this classifier to the fasttext classifier and reflect on their performance.**"
   ]
  },
  {
   "cell_type": "code",
   "execution_count": null,
   "metadata": {},
   "outputs": [],
   "source": [
    "raise NotImplementedError(\"Asking for a whole classifier is a bit much, no?\")"
   ]
  }
 ],
 "metadata": {
  "kernelspec": {
   "display_name": "02462",
   "language": "python",
   "name": "python3"
  },
  "language_info": {
   "codemirror_mode": {
    "name": "ipython",
    "version": 3
   },
   "file_extension": ".py",
   "mimetype": "text/x-python",
   "name": "python",
   "nbconvert_exporter": "python",
   "pygments_lexer": "ipython3",
   "version": "3.11.10"
  }
 },
 "nbformat": 4,
 "nbformat_minor": 0
}
